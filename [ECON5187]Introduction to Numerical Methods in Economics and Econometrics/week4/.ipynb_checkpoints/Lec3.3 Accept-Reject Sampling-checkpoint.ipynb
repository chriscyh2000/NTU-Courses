{
 "cells": [
  {
   "cell_type": "markdown",
   "id": "8ab52cfa",
   "metadata": {},
   "source": [
    "# Accept-Reject Sampling\n",
    "\n",
    "No notes. See the video."
   ]
  },
  {
   "cell_type": "markdown",
   "id": "6ba66ea2",
   "metadata": {},
   "source": [
    "A summary of the accept-reject sampling methods\n",
    "\n",
    "- good: independent samples\n",
    "- bad: independent samples, so we do not use the information fully during the sampling. That is, if in some area the density is high, we should draw more from there.\n",
    "- bad: For some empirical distribution f(x), it has irregular shape, or it is high dimensions. Then sometimes the M is difficult to find, or that the M would be very large. A large M would result in very inefficient sampling.\n",
    "  - the cure is the MCMC methods."
   ]
  }
 ],
 "metadata": {
  "kernelspec": {
   "display_name": "Julia 1.8.5",
   "language": "julia",
   "name": "julia-1.8"
  },
  "language_info": {
   "file_extension": ".jl",
   "mimetype": "application/julia",
   "name": "julia",
   "version": "1.8.5"
  },
  "toc": {
   "base_numbering": 1,
   "nav_menu": {},
   "number_sections": true,
   "sideBar": true,
   "skip_h1_title": false,
   "title_cell": "Table of Contents",
   "title_sidebar": "Contents",
   "toc_cell": false,
   "toc_position": {},
   "toc_section_display": true,
   "toc_window_display": false
  }
 },
 "nbformat": 4,
 "nbformat_minor": 5
}
