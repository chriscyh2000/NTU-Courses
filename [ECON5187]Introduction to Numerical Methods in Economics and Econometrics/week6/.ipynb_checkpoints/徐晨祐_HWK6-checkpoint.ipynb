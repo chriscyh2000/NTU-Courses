{
 "cells": [
  {
   "cell_type": "markdown",
   "id": "e4d6c6b3",
   "metadata": {},
   "source": [
    "# Homework: Gaussian Quadrature Integration\n",
    "\n",
    "###### GH: Gauss-Hermite; GL: Gauss-Legendre; GLa: Gauss-Laguerre\n",
    "\n",
    "For all the problems, you may obtain $\\{\\omega_i, \\xi_i \\}$ directly from Julia's `FastGaussQuadrature` packages. For instance, `xi, wi = gausslegendre(20)` would give $\\{\\omega_i, \\xi_i \\}$, $i=1,\\ldots,20$, from the Gauss-Legendre rule."
   ]
  },
  {
   "cell_type": "markdown",
   "id": "bb23437c",
   "metadata": {},
   "source": [
    "## This problem asks you to adopt the Gauss-Hermite rule to an infinite integral where the weight function does not match.  The integration problem is:\n",
    "  $$\\begin{aligned}\n",
    "   I = \\int_{-\\infty}^\\infty g(x) d x =  \\int_{-\\infty}^\\infty \\exp\\left(-\\frac{1}{3}x^2\\right)\\sqrt{1+x^2} dx.\n",
    "  \\end{aligned}$$ \n",
    " "
   ]
  },
  {
   "cell_type": "markdown",
   "id": "756e7639",
   "metadata": {},
   "source": [
    "- ##### Let's do this without using changes of variables. \n",
    "  - Transform $g(x)$ to $e^{-x^2}f(x)$ so that the Gauss-Hermite rule could be applied. Write down the re-formulated integration problem explicitly and write down $f(x)$ explicitly.\n",
    "  - Write Julia code to integrate the function numerically."
   ]
  },
  {
   "cell_type": "markdown",
   "id": "3768a170",
   "metadata": {},
   "source": [
    "## Write a Julia function with the following specifications.\n",
    "  - It calculates $E[g(y)]$ for any arbitrary $g(y)$ where $y \\sim N(\\mu, \\sigma^2)$.\n",
    "  - User's inputs include $g(y)$, $\\mu$, $\\sigma^2$, and $n$.\n",
    "  - You may obtain $\\{\\omega_i, \\xi_i\\}$ directly from Julia's package.\n",
    "  - If $g(y) = 1 + 3y + y^2$, $y \\sim N(1,2)$, and $n=30$, the interface could be like `myInteg(1 + 3y + y^2, mean=1, variance=2, n=30)`, or, `myInteg(g, mean=1, variance=2, n=30)`.\n",
    "  - Hint: You may define the probability density function of $y$ using the `Distributions` package and then `pdf(Normal(mean, std.dev.),x)`."
   ]
  },
  {
   "cell_type": "markdown",
   "id": "1dd07b13",
   "metadata": {},
   "source": [
    "## It is generally true that proper integrals (i.e., with finite domains) are numerically easier to deal with. But what if a problem is naturally a GH type with an infinite domain and we transform it to a GL problem with a finite domain? Is the GL rule better in this scenario? Let's find out the answer. Consider the following integration problem which is often encountered in econometric analysis. \n",
    "\n",
    "$$\\begin{aligned}\n",
    "      I = \\int_{-\\infty}^\\infty \\Phi\\left(\\frac{x-a}{b}\\right)\\phi(x) dx,\n",
    "\\end{aligned}$$\n",
    "\n",
    "where $X\\sim N(0,1)$ is a standard normal random variable, $\\phi(z)$ is the density function (PDF) of a random variable $z$, and $\\Phi(z)$ is the CDF of $z$.\n",
    "   - ##### Write a Julia function that uses the GH rule to approximate the integral. The program should be a function of $a$ and $b$.\n",
    "   - ##### Transform this problem to the GL type. What is the transformation rule and what is the Jacobian? Type the equations and show your work.\n",
    "   - ##### Write a Julia function that uses the GL rule to approximate the integral. The program should be a function of $a$ and $b$.\n",
    "   - ##### Suppose the required precision is 6 digits after the decimal. Compare the performances of these functions. Which one converges more quickly (smaller $n$)? You may pick values of $a$ and $b$ to do the comparison. You may draw graphs to compare the results.\n",
    "   - ##### Based on your results, is the GL rule always the most efficient?"
   ]
  },
  {
   "cell_type": "markdown",
   "id": "b5240c60",
   "metadata": {},
   "source": [
    "## This problem asks you to consider an integration problem where it can be transformed to different types to use different Gaussian quadrature rules. Which one is the best? The integration problem is:\n",
    "\n",
    " $$\\begin{aligned}\n",
    " \\int_{a}^\\infty \\exp\\left(-\\frac{1}{100}x^2\\right)(1+x^2) dx,\n",
    " \\end{aligned}$$\n",
    "\n",
    "where $a$ is finite but not necessarily 0. This problem has some characteristics of the GLa and GH types: It has an exponential function, and by mapping $a$ to $-1$, $0$ or $-\\infty$ via change of variables, the domain would be of the GL, GLa and GH types, respectively. You are asked to perform the approximation using rules of each of the types and compare the performance. In the code, make $a$ a parameter that we can assign a value to it.\n",
    "\n",
    " - ##### Write Julia code that uses the GL rule to approximate the integral. \n",
    " - ##### Write Julia code that uses the GLa rule to approximate the integral. \n",
    " - ##### Write Julia code that uses the GH rule to approximate the integral. \n",
    " - ##### Suppose the required precision is 6 digits after the decimal. Compare the performances of these functions; drawing a graph will be useful. You may pick a value for $a$ in the comparison. \n",
    " - ##### According to your result above, which rule converges more quickly (smaller $n$)? What is the intuition behind the result?"
   ]
  }
 ],
 "metadata": {
  "@webio": {
   "lastCommId": "fe43abe80e6846dd8444cae81f54b12f",
   "lastKernelId": "7e2d0da8-1240-4f5c-a5f1-1677d58e9db7"
  },
  "kernelspec": {
   "display_name": "Julia 1.8.5",
   "language": "julia",
   "name": "julia-1.8"
  },
  "language_info": {
   "file_extension": ".jl",
   "mimetype": "application/julia",
   "name": "julia",
   "version": "1.8.5"
  },
  "toc": {
   "base_numbering": 1,
   "nav_menu": {},
   "number_sections": true,
   "sideBar": true,
   "skip_h1_title": false,
   "title_cell": "Table of Contents",
   "title_sidebar": "Contents",
   "toc_cell": false,
   "toc_position": {},
   "toc_section_display": true,
   "toc_window_display": false
  }
 },
 "nbformat": 4,
 "nbformat_minor": 5
}
