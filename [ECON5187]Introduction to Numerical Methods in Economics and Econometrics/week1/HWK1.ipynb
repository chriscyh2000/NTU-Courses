{
 "cells": [
  {
   "cell_type": "markdown",
   "id": "fbc4b55c",
   "metadata": {},
   "source": [
    "# 作業 1 （荒野求生）\n",
    "\n",
    "\n",
    "- **前三題一定要做，以前三題的表現給分。後面幾題不計分但也一定要寫；寫錯、沒寫完、寫不出來沒關係，但要有嘗試的痕跡或證據（例如，幾行相關的code)。**\n",
    "- 請於下星期一（2/27）下午 2:00 前上傳 NTU Cool 繳交。超過了時間系統無法收件。\n",
    "- 繳交時，請將檔案名稱改爲「姓名_HWK1.ipynb」;例如「王小明_HWK1.ipynb」。\n",
    "- 題目來源：111年學測數A及數B。\n",
    "- 此作業的目的不在考數學，而在練習使用 Julia；歡迎上網找相關題目的解答。重點在過程不在答案。\n",
    "  - [數A影音解答](https://www.youtube.com/watch?v=sWfWqDtsa5o&ab_channel=CMmath)\n",
    "  - [數B影音解答](https://www.youtube.com/watch?v=j3jigIF2QO8&ab_channel=CMmath)\n",
    "- 所有數字必須透過程式算出來，不能心算等人為介入。例如：\n",
    "  - $n(n-1)/2 > 200$, 不能用心算得出 $n$ 最小為15。\n",
    "  - $-3.1$ 到 $8.9$ 之間有幾個整數，不能扳手指算。\n",
    "- 假設你的解答過程及答案將作爲補習班教學之用。請適當註解程式，讓解答容易被學生了解。\n",
    "\n",
    "\n",
    "\n"
   ]
  },
  {
   "cell_type": "markdown",
   "id": "4e7c8d13",
   "metadata": {},
   "source": [
    "## (111學測數B單選5) 設矩陣 $A = \\begin{bmatrix} 1 & 1 \\\\ 1 & -1\\end{bmatrix}$，若 $A^7 - 3A = \\begin{bmatrix} a & b \\\\ c & d\\end{bmatrix}$，則 $a + b + c + d$ 之值為何？\n",
    "\n",
    "Hint 1: 算出 $A^7 - 3A$ 的矩陣，然後把裏面的 elements 相加。想想看，如何把一個矩陣的 elements 加起來。"
   ]
  },
  {
   "cell_type": "code",
   "execution_count": 25,
   "id": "40db3565",
   "metadata": {},
   "outputs": [
    {
     "name": "stdout",
     "output_type": "stream",
     "text": [
      "10\n"
     ]
    }
   ],
   "source": [
    "A = [1 1; 1 -1]\n",
    "\n",
    "# using exponentiating by squaring to reduce the time complexity\n",
    "function mul(A; n::Int=7)\n",
    "    if n == 1\n",
    "        return A\n",
    "    elseif (n & 1) == 1\n",
    "        return A * mul(A, n=n-1)\n",
    "    end\n",
    "    B = mul(A, n=(n>>1))\n",
    "    return B * B\n",
    "end\n",
    "\n",
    "B = mul(A, n=7) - 3 * A\n",
    "println(sum(B))"
   ]
  },
  {
   "cell_type": "markdown",
   "id": "d153ef86",
   "metadata": {},
   "source": [
    "## (111學測數A單選5） 已知某地區有 30%的人口感染某傳染病。針對該傳染病的快篩試劑檢驗，有陽性或陰性兩結果。已知該試劑將染病者判為陽性的機率為 80%，將未染病者判為陰性的機率則為60%。為降低該試劑將染病者誤判為陰性的情況，專家建議連續採檢三次。若單次採檢判為陰性者中，染病者的機率為 P；而連續採檢三次皆判為陰性者中，染病者的機率為 P '。試問 P/P' 為多少？"
   ]
  },
  {
   "cell_type": "code",
   "execution_count": 32,
   "id": "67247357",
   "metadata": {},
   "outputs": [
    {
     "name": "stdout",
     "output_type": "stream",
     "text": [
      "7.999999999999998\n"
     ]
    }
   ],
   "source": [
    "# use Bayes' theorem to solve this problem\n",
    "P = 0.3 * 0.2 / (0.3 * 0.2 + 0.6 * 0.7)\n",
    "\n",
    "# assume the testing results are conditionally independent\n",
    "P_ = 0.3 * (0.2 ^ 3) / (0.3 * (0.2 ^ 3) + 0.7 * (0.6 ^ 3))\n",
    "\n",
    "println(P / P_)"
   ]
  },
  {
   "cell_type": "markdown",
   "id": "a8011ed3",
   "metadata": {},
   "source": [
    "## (111學測數A單選1） 某冰淇淋店最少需準備 n 桶不同口味的冰淇淋，才能滿足廣告所稱「任選兩球不同口味冰淇淋的組合數超過 100 種」。試問來店顧客從 n 桶中任選兩球（可為同一口味）共有幾種方法？請提供至少三種解法：\n",
    "- ### 不使用任何 package (hint: 可以用 `while` loop),\n",
    "\n",
    "- ### 使用 `Combinatorics` package (hint: 可參考[這個連結](https://juliamath.github.io/Combinatorics.jl/dev/api/#Combinatorics.combinations-Tuple{Any,%20Integer}); 可以用 `collect()` 函數）,\n",
    "- ### 使用 `Roots` package （hint: 定義一個函數，然後用 `find_zero()` 求解）。\n"
   ]
  },
  {
   "cell_type": "code",
   "execution_count": 36,
   "id": "bb7f8708",
   "metadata": {},
   "outputs": [
    {
     "name": "stdout",
     "output_type": "stream",
     "text": [
      "ans(solution 1) = 120\n",
      "ans(solution 2) = 120\n",
      "ans(solution 3) = 120\n"
     ]
    }
   ],
   "source": [
    "# solution 1\n",
    "calc(n) = (n * (n - 1)) >> 1 \n",
    "n = 1\n",
    "while calc(n) < 100\n",
    "    n += 1\n",
    "end\n",
    "println(\"ans(solution 1) = \", binomial(n, 2) + binomial(n, 1))\n",
    "\n",
    "# solution 2\n",
    "using Combinatorics\n",
    "n = 1\n",
    "while length(collect(combinations(1:n, 2))) < 100\n",
    "    n += 1\n",
    "end\n",
    "println(\"ans(solution 2) = \", binomial(n, 2) + binomial(n, 1))\n",
    "\n",
    "# solution 3\n",
    "using Roots\n",
    "f(n) = (n * (n - 1)) / 2  - 100\n",
    "n = Int(ceil(find_zero(f, 1)))\n",
    "println(\"ans(solution 3) = \", binomial(n, 2) + binomial(n, 1))"
   ]
  },
  {
   "cell_type": "markdown",
   "id": "1f809979",
   "metadata": {},
   "source": [
    "## (111學測數A選填13）有一款線上遊戲推出「十連抽」的抽卡機制，「十連抽」意思為系統自動做十次的抽卡 動作。若每次「十連抽」需用 1500 枚代幣，抽中金卡的機率在前九次皆為 2%，在第 十次為 10%。今某生有代幣 23000 枚，且不斷使用「十連抽」，抽到不能再抽為止。則某生抽到金卡張數的期望值為多少張？\n",
    "\n",
    "Hint: 幾個可以用、不一定全部用到的函數：`for` loop, `round()`, `trunc()`."
   ]
  },
  {
   "cell_type": "code",
   "execution_count": 39,
   "id": "ed1ffea8",
   "metadata": {},
   "outputs": [
    {
     "name": "stdout",
     "output_type": "stream",
     "text": [
      "4.2\n"
     ]
    }
   ],
   "source": [
    "t = round(23000 / 1500)\n",
    "E = 0.02 * 9 + 0.1 * 1 # expectation of the number of golden cards in one trial\n",
    "println(E * t)"
   ]
  },
  {
   "cell_type": "markdown",
   "id": "c0b8b11f",
   "metadata": {},
   "source": [
    "## (111學測數B單選1) 試問有多少個整數 $x$ 滿足 $2|x| + x < 10$？\n",
    "\n",
    "Hint: 有很多方法，包括比較直覺的 `for` 或 `while` loops."
   ]
  },
  {
   "cell_type": "code",
   "execution_count": 22,
   "id": "909ca8e6",
   "metadata": {},
   "outputs": [
    {
     "name": "stdout",
     "output_type": "stream",
     "text": [
      "13\n"
     ]
    }
   ],
   "source": [
    "n = 0\n",
    "cnt = 0\n",
    "\n",
    "while 2 * abs(n) + n < 10\n",
    "    cnt += 1\n",
    "    n += 1\n",
    "end\n",
    "\n",
    "n = -1\n",
    "while 2 * abs(n) + n < 10\n",
    "    cnt += 1\n",
    "    n -= 1\n",
    "end\n",
    "\n",
    "println(cnt)"
   ]
  },
  {
   "cell_type": "markdown",
   "id": "0c31d3ed",
   "metadata": {},
   "source": [
    "## (111學測數B單選2) 某燈會布置變色閃燈，每次啟動後的閃燈顏色會依照以下的順序做週期性變換:藍-白- 紅-白-藍-白-紅-白-藍-白-紅-白...，每四次一循環，其中藍光每次持續 5 秒，白光每次持 續 2 秒，而紅光每次持續 6 秒。假設換燈號的時間極短可被忽略，試算出啟動後第 99 至 101 秒之間的燈號。"
   ]
  },
  {
   "cell_type": "code",
   "execution_count": 46,
   "id": "956834e8",
   "metadata": {},
   "outputs": [
    {
     "name": "stdout",
     "output_type": "stream",
     "text": [
      "99 sec to 100 sec: red\n",
      "100 sec to 101 sec: red\n"
     ]
    }
   ],
   "source": [
    "using Printf\n",
    "(B, W, R) = (5, 2, 6)\n",
    "cycle_time = B + W + R + W\n",
    "for t in [99, 100]\n",
    "    # (t % cycle_time) = time consumed in current cycle\n",
    "    if t % cycle_time < B\n",
    "        @printf(\"%d sec to %d sec: blue\\n\", t, t+1)\n",
    "    elseif t % cycle_time < B + W\n",
    "        @printf(\"%d sec to %d sec: white\\n\", t, t+1)\n",
    "    elseif t % cycle_time < B + W + R\n",
    "        @printf(\"%d sec to %d sec: red\\n\", t, t+1)\n",
    "    else\n",
    "        @printf(\"%d sec to %d sec: white\\n\", t, t+1)\n",
    "    end\n",
    "end"
   ]
  },
  {
   "cell_type": "markdown",
   "id": "745b3253",
   "metadata": {},
   "source": [
    "## (111學測數B單選3) 有八棟大廈排成一列，由左至右分別編號 1, 2, 3, 4, 5, 6, 7, 8。今電信公司想選取其中三棟 大廈的屋頂分別設立一座電信基地台。若基地台不能設立於相鄰的兩棟大廈，以免訊號 互相干擾，試問在 3 號大廈不設立基地台的情況下，有多少種設立基地台的選取方法?\n",
    "\n",
    "Hint: 可以寫一個大的 `for` loop, 或用 Combinatorics 套件。"
   ]
  },
  {
   "cell_type": "code",
   "execution_count": 75,
   "id": "9c1cfabe",
   "metadata": {},
   "outputs": [
    {
     "data": {
      "text/plain": [
       "13"
      ]
     },
     "execution_count": 75,
     "metadata": {},
     "output_type": "execute_result"
    }
   ],
   "source": [
    "n = 8 # total number of buildings\n",
    "x = 3\n",
    "binomial(2, 1) * (binomial(5, 2) - (n - 1 - (x + 1) + 1)) + 1"
   ]
  },
  {
   "cell_type": "markdown",
   "id": "7b04a212",
   "metadata": {},
   "source": [
    "## (111學測數B選填17) 有三女三男共六位在校時和老師常有互動的同學，畢業後老師邀聚餐，餐後七人站 一橫排照相留念。已知同學中有一女一男兩位曾有過不愉快，照相時不想相鄰，而 老師站在正中間且三位男生不完全站在老師的同一側，則可能的排列方式共有多少種? \n",
    "\n",
    "Hint: `factorial()`"
   ]
  },
  {
   "cell_type": "code",
   "execution_count": 76,
   "id": "311e9598",
   "metadata": {},
   "outputs": [
    {
     "data": {
      "text/plain": [
       "456"
      ]
     },
     "execution_count": 76,
     "metadata": {},
     "output_type": "execute_result"
    }
   ],
   "source": [
    "factorial(6) - (factorial(3) ^ 2) * 2 - 2 * 4 * factorial(4)"
   ]
  }
 ],
 "metadata": {
  "@webio": {
   "lastCommId": null,
   "lastKernelId": null
  },
  "kernelspec": {
   "display_name": "Julia 1.8.5",
   "language": "julia",
   "name": "julia-1.8"
  },
  "language_info": {
   "file_extension": ".jl",
   "mimetype": "application/julia",
   "name": "julia",
   "version": "1.8.5"
  },
  "toc": {
   "base_numbering": 1,
   "nav_menu": {},
   "number_sections": true,
   "sideBar": true,
   "skip_h1_title": true,
   "title_cell": "Table of Contents",
   "title_sidebar": "Contents",
   "toc_cell": false,
   "toc_position": {
    "height": "calc(100% - 180px)",
    "left": "10px",
    "top": "150px",
    "width": "207.415px"
   },
   "toc_section_display": true,
   "toc_window_display": false
  }
 },
 "nbformat": 4,
 "nbformat_minor": 5
}
