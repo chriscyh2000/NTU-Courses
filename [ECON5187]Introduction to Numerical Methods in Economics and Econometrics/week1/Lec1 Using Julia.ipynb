{
 "cells": [
  {
   "cell_type": "markdown",
   "id": "7810cd47",
   "metadata": {},
   "source": [
    "# [Official Julia Website](https://julialang.org/); [Official Julia Documentation](https://docs.julialang.org/en/v1/)\n",
    "\n"
   ]
  },
  {
   "cell_type": "markdown",
   "id": "d5802c17",
   "metadata": {},
   "source": [
    "# Why Julia (if you need extra motivation)\n",
    "\n",
    "* [Why We Created Julia](https://julialang.org/blog/2012/02/why-we-created-julia/);\\\n",
    "[Why We Use Julia, 10 Years Later](https://julialang.org/blog/2022/02/10years/)\n",
    "\n",
    "* [Introduc)on to Julia: Why are we doing this to you](https://web.mit.edu/18.06/www/Spring17/Julia-intro.pdf)\n",
    "\n",
    "* [Is Julia a “very smart people” thing?](https://thibaut-deveraux.medium.com/is-julia-a-very-smart-people-thing-d03c060a40d0)\n",
    "\n",
    "* [Use Julia For Awesome Data Science Projects](https://betterprogramming.pub/use-julia-for-awesome-data-projects-71d39c345aa9)\n",
    "\n",
    "* [Why You Should Invest in Julia Now, as a Data Scientist](https://betterprogramming.pub/why-you-should-invest-in-julia-now-as-a-data-scientist-30dc346d62e4)\n",
    "\n",
    "* [Why you should learn Julia, as a beginner / first-time programmer](https://medium.com/@logankilpatrick/why-you-should-learn-julia-as-a-beginner-first-time-programmer-96e0ad33faba)\n",
    "\n",
    "* [Why am I using Julia? (August, 2022)](https://ufechner7.github.io/2022/08/13/why-julia.html)\n",
    "\n",
    "* [Introduction to Julia (What is Julia? etc.)](https://blog.quantinsti.com/julia-programming/)"
   ]
  },
  {
   "cell_type": "markdown",
   "id": "7698aecb",
   "metadata": {},
   "source": [
    "# Julia Compared to other Languages\n",
    "\n",
    "\n",
    "* [Noteworthy Differences from other Languages (Matlab, R, Python, C/C++, Common Lisp)](https://docs.julialang.org/en/v1/manual/noteworthy-differences/)\n",
    "\n",
    "* [R vs. Python vs. Julia (March, 2021)](https://towardsdatascience.com/r-vs-python-vs-julia-90456a2bcbab)\n",
    "\n",
    "* [Julia for R Programmers (What does Julia provide that R doesn't) (July, 2013)](https://pages.stat.wisc.edu/~bates/JuliaForRProgrammers.pdf)\n",
    "\n",
    "* [Choosing a numerical programming language for economic research: Julia, MATLAB, Python or R (August, 2022)](https://cepr.org/voxeu/columns/choosing-numerical-programming-language-economic-research-julia-matlab-python-or-r)\n"
   ]
  },
  {
   "cell_type": "markdown",
   "id": "a9a38355",
   "metadata": {},
   "source": [
    "# Julia in Economics and Other Fields (videos only)\n",
    "\n",
    "* [Quantitative Macroeconomics in Julia (by Tom Sargent!!)](https://www.youtube.com/watch?v=KkKBwJkYgVk&ab_channel=TheJuliaProgrammingLanguage) \n",
    "  - 16:20 -- Key Tools\n",
    "  - 27:30 -- Dynamic Programming Squared (new economic research frontier)\n",
    "\n",
    "* [Economic Modeling at the Federal Reserve Bank of New York (DSGE modeling)](https://www.youtube.com/watch?v=Vd2LJI3JLU0&ab_channel=TheJuliaProgrammingLanguage)\n",
    "\n",
    "* [Using Julia to study economic inequality and taxation](https://www.youtube.com/watch?v=dc3iunpMA1o&ab_channel=TheJuliaProgrammingLanguage)\n",
    "\n",
    "* [JuliaRobotics: Making robots walk with Julia (YouTube video; actually quite interesting)](https://www.youtube.com/watch?v=dmWQtI3DFFo&ab_channel=TheJuliaProgrammingLanguage)\n",
    "\n",
    "* [Statistics with Julia from the ground up](https://www.youtube.com/watch?v=IlPoU5Yr2QI&ab_channel=TheJuliaProgrammingLanguage)\n",
    "\n"
   ]
  },
  {
   "cell_type": "markdown",
   "id": "7a1bdd58",
   "metadata": {},
   "source": [
    "# Nice Tutorials\n",
    "\n",
    "* [10-Minute Guide to Julia For Die-Hard Python Lovers (very good summary)](https://towardsdatascience.com/10-minute-guide-to-julia-for-die-hard-python-lovers-a2fcf7dcb860)\n",
    "* [Tutorial 1 (must read)](https://www.matecdev.com/posts/julia-tutorial-science-engineering.html)\n",
    "* [Tutorial 2 (highly recommended)](https://github.com/mitmath/julia-mit/blob/master/Tutorial.ipynb)\n",
    "* [Tutorial 3 (recommended)](https://github.com/Datseris/Zero2Hero-JuliaWorkshop/blob/master/1-JuliaBasics.ipynb)\n",
    "* [Tutorial 4 (optional)](https://github.com/rdeits/DetroitTechWatch2020.jl/blob/master/Intro%20to%20Julia.ipynb)\n",
    "* [YouTube Resources](https://www.youtube.com/user/JuliaLanguage/playlists)"
   ]
  },
  {
   "cell_type": "markdown",
   "id": "5ddbca91",
   "metadata": {},
   "source": [
    "# Composing and Running Julia\n",
    "\n",
    "\n",
    "The simplest way to run Julia command is launching Julia REPL and typing commands into it.\n",
    "- REPL: read-evaluate-print loop; a command-line based interface.\n",
    "- Launch it by typing `julia` in Command Prompt (_dos box_) or by clicking `julia.exe`.\n",
    "- Good for testing or running short commands.\n",
    "- May also execute Julia scripts; see below.\n",
    "\n",
    "\n",
    "However, for most of the jobs, we often need to write Julia commands and programs in a file, and execute the file to obtain results.\n",
    "\n",
    "\n",
    "\n",
    "## Julia files (those containing Julia commands and programs) can be edited in two formates.\n",
    "\n",
    "### simple Julia scripts (`*.jl`)\n",
    "- Julia scripts are plain text (instead of binary) files containing Julia commands. They can be opened and edited in any ASCII editors, such as Notepad, Notepad++, or via an IDE (integrated development environment) such as VSCode and Juno. \n",
    "  - An IDE provides an array of tools that assist coding. For instance, the tools include code editors, syntax highlighting, debuggers, and the ability to integrate a server or a kernel.\n",
    "- VSCode, being an IDE, integrates an editor and a Julia REPL (_the engine_) together. So, you could edit and run Julia scripts in VSCode.\n",
    "- You could also edit the `*.jl` in Notepad (non-IDE) and run the script in an independent Julia REPL.\n",
    "  - You may have to change to the working directory by, for instance, `cd(\"c:\\\\class\\\\homework\")` (or, `cd(\"c:/class/homework\")`).\n",
    "  - Then, you run the script by `include(\"your_script_name.jl\")`.\n",
    "- Recommended for long and serious jobs.\n",
    "\n",
    "\n",
    "###  Jupyter Notebooks (`*.ipynb`)  (_**This is what we use for lectures and homeworks.**_)\n",
    "- The notebook is also a text file (in JSON format) but it's almost impossible to humanly edit it.\n",
    "- Instead, we launch the Jupyter Notebook (which is essentially a web application) in computers and create-edit-and-run the `.ipynb` documents with it. Alternatively, you may also edit and run a `.ipynb` document in VSCode.  \n",
    "- The notebook could load Julia kernels and thus we can execute Julia commands directly from the notebook.  \n",
    "  - It makes Jupyter Notebook looks like an IDE, but strictly speaking it is not (yet). It does not provide a full range of tools that we mentioned above.\n",
    "- The notebook has two types of cells.\n",
    "  - A **code cell** contains code to be executed in the kernel. When the code is run, the notebook displays the output below the code cell that generated it.\n",
    "  - A **Markdown cell** contains text formatted using Markdown and displays its output in-place when the Markdown cell is run.\n",
    "  - Markdown is a text formatting syntax designed for writing in the internet. There are tons of tutorials on the Markdown language; just google it. A nice example is [here](https://medium.com/analytics-vidhya/the-ultimate-markdown-guide-for-jupyter-notebook-d5e5abf728fd).\n",
    "- The mixture of commands and texts make it ideal for teaching and documentations. It is also good for prototype code and for exploratory studies.\n",
    " \n",
    "### Another way to summarize\n",
    "\n",
    "- Plain editors (like Notepad) can edit Julia scripts (`*.jl`);\n",
    "- Julia REPL can run `*.jl` scripts;\n",
    "- IDEs (like VSCode) and edit and run `*.jl` scripts.   \n",
    "- Jupyter Notebook, though not quite an IDE, can edit and run `*.ipynb` files.\n",
    "\n",
    "\n",
    "\n"
   ]
  },
  {
   "cell_type": "markdown",
   "id": "cf28f3e1",
   "metadata": {},
   "source": [
    "# My own Julia project: [SFrontiers.jl](https://hungjenwang1991.github.io/SFrontiers.jl/index.html). Comments and collaborations welcome. "
   ]
  },
  {
   "cell_type": "code",
   "execution_count": null,
   "id": "15d47076",
   "metadata": {},
   "outputs": [],
   "source": [
    "α"
   ]
  }
 ],
 "metadata": {
  "kernelspec": {
   "display_name": "Julia 1.8.5",
   "language": "julia",
   "name": "julia-1.8"
  },
  "language_info": {
   "file_extension": ".jl",
   "mimetype": "application/julia",
   "name": "julia",
   "version": "1.8.5"
  },
  "toc": {
   "base_numbering": 1,
   "nav_menu": {},
   "number_sections": true,
   "sideBar": true,
   "skip_h1_title": false,
   "title_cell": "Table of Contents",
   "title_sidebar": "Contents",
   "toc_cell": false,
   "toc_position": {},
   "toc_section_display": true,
   "toc_window_display": false
  }
 },
 "nbformat": 4,
 "nbformat_minor": 5
}
