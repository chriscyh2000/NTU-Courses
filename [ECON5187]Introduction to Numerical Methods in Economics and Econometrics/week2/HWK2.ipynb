{
 "cells": [
  {
   "cell_type": "markdown",
   "id": "c471dc72",
   "metadata": {},
   "source": [
    "# 作業2"
   ]
  },
  {
   "cell_type": "markdown",
   "id": "54d1a0f9",
   "metadata": {},
   "source": [
    "## Draw Random Numbers from Uniform Distributions\n",
    "\n",
    "### Write code to draw a set of 10,000 random numbers that is uniformly distributed in (-2,3). \n",
    " - Hint: Stretch $U(0,1)$ to fit the bound of $U(-2,3)$.\n",
    " \n",
    "### What are the theoretical mean and standard deviation of the distribution $U(-2,3)$ ?\n",
    " \n",
    "### Show the mean and the standard deviation of the set of random numbers you've drawn. "
   ]
  },
  {
   "cell_type": "code",
   "execution_count": 2,
   "id": "a7018c2c",
   "metadata": {},
   "outputs": [
    {
     "name": "stdout",
     "output_type": "stream",
     "text": [
      "theoretical mean = 0.5\n",
      "theoretical standard deviation = 1.4433756729740645\n",
      "mean = 0.489107366993748\n",
      "standard deviation = 1.4415772168787697\n"
     ]
    }
   ],
   "source": [
    "using Distributions\n",
    "\n",
    "d = Uniform(-2, 3);\n",
    "println(\"theoretical mean = \", mean(d));\n",
    "println(\"theoretical standard deviation = \", sqrt(var(d)));\n",
    "\n",
    "a1 = rand(d, 10000);\n",
    "println(\"mean = \", mean(a1));\n",
    "println(\"standard deviation = \", sqrt(var(a1)));"
   ]
  },
  {
   "cell_type": "markdown",
   "id": "71bf5a93",
   "metadata": {},
   "source": [
    "## Draw Random Numbers from Normal Distributions\n",
    "\n",
    "### Use `randn()` to draw a $1000\\times 2$ matrix of random numbers from $N(2,3)$ (a normal distribution with mean=2 and variance=3). Use `mean()` and `var()` to show that the empirical mean and variance are close to the theoretical values.\n",
    "- Hint: `randn()` generates N(0,1) random variables; you have to scale it to the appropriate mean and variance.\n",
    "- Hint: For constants `a` and `b`: $x \\sim N(\\mu, \\sigma^2)$, then $a*x \\sim N(a*\\mu, \\ a^2 \\sigma^2)$ and $x+b \\sim N(\\mu+b, \\ \\sigma^2)$.\n",
    "\n",
    "### Use `rand()` to draw a $1000\\times 2$ matrix of random numbers from $N(2,3)$. Use `mean()` and `var()` to show that the empirical mean and variance are close to the theoretical values.\n",
    "- Hint: `rand()` could take distributions as arguments, as we've shown in the class."
   ]
  },
  {
   "cell_type": "code",
   "execution_count": 3,
   "id": "13a88a11",
   "metadata": {},
   "outputs": [
    {
     "name": "stdout",
     "output_type": "stream",
     "text": [
      "m1 mean(empirical) = 1.9330050569619814\n",
      "m1 variance(empirical) = 3.0109499318740203\n",
      "m2 mean(empirical) = 2.0044186938209108\n",
      "m2 variance(empirical) = 2.9224489061537158\n"
     ]
    }
   ],
   "source": [
    "m1 = randn(1000, 2) * sqrt(3) .+ 2;\n",
    "println(\"m1 mean(empirical) = \", mean(m1));\n",
    "println(\"m1 variance(empirical) = \", var(m1));\n",
    "\n",
    "d = Normal(2, sqrt(3));\n",
    "m2 = rand(d, (1000, 2));\n",
    "println(\"m2 mean(empirical) = \", mean(m2));\n",
    "println(\"m2 variance(empirical) = \", var(m2));"
   ]
  },
  {
   "cell_type": "markdown",
   "id": "87cf30eb",
   "metadata": {},
   "source": [
    "## Draw Regression Data: Cross-Sectional Model\n",
    "\n",
    "Suppose you write your own routine to do fancy estimation on cross-sectional and panel data models. You want to conduct a Monte Carlo analysis to see if the routine works as expected and the returned answer is correct. The first thing you have to do is to generate data with pre-specified parameter values. (So that you could apply your estimation routine to the data and see if the estimated parameter values match the pre-specified (*true*) values.) \n",
    "\n",
    "Let's start from the cross-sectional model. The model is:\n",
    "\\begin{aligned} \n",
    "  y_i & = \\alpha + \\beta' x_i + \\epsilon_i,\\qquad i=1,\\ldots,N,\\\\\n",
    "  \\epsilon_i & \\sim N(0, \\sigma^2).\n",
    "\\end{aligned}   \n",
    "\n",
    "There could be more than one $x_i$ variable in the model; let's denote the number of $x_i$ as $\\textrm{nofX}$. Write a function to generate data $\\{y_i, x_i\\}$.The function should allow users to choose values of $\\{\\alpha, \\beta, \\sigma^2, \\textrm{nofX}, N\\}$.\n",
    "  - Hint: The $x_i$s are assumed (in econometrics) to be fixed and exogenous and therefore the distribution from which they are generated is inconsequential. （前面那句看不懂意思沒關係，重要是下面這句：）You may assume that they are generated from normal distributions."
   ]
  },
  {
   "cell_type": "code",
   "execution_count": 46,
   "id": "256f0016",
   "metadata": {},
   "outputs": [
    {
     "data": {
      "text/html": [
       "<div><div style = \"float: left;\"><span>7×7 DataFrame</span></div><div style = \"clear: both;\"></div></div><div class = \"data-frame\" style = \"overflow-x: scroll;\"><table class = \"data-frame\" style = \"margin-bottom: 6px;\"><thead><tr class = \"header\"><th class = \"rowNumber\" style = \"font-weight: bold; text-align: right;\">Row</th><th style = \"text-align: left;\">i</th><th style = \"text-align: left;\">y</th><th style = \"text-align: left;\">x1</th><th style = \"text-align: left;\">x2</th><th style = \"text-align: left;\">x3</th><th style = \"text-align: left;\">x4</th><th style = \"text-align: left;\">x5</th></tr><tr class = \"subheader headerLastRow\"><th class = \"rowNumber\" style = \"font-weight: bold; text-align: right;\"></th><th title = \"Float64\" style = \"text-align: left;\">Float64</th><th title = \"Float64\" style = \"text-align: left;\">Float64</th><th title = \"Float64\" style = \"text-align: left;\">Float64</th><th title = \"Float64\" style = \"text-align: left;\">Float64</th><th title = \"Float64\" style = \"text-align: left;\">Float64</th><th title = \"Float64\" style = \"text-align: left;\">Float64</th><th title = \"Float64\" style = \"text-align: left;\">Float64</th></tr></thead><tbody><tr><td class = \"rowNumber\" style = \"font-weight: bold; text-align: right;\">1</td><td style = \"text-align: right;\">1.0</td><td style = \"text-align: right;\">-1.95867</td><td style = \"text-align: right;\">0.966174</td><td style = \"text-align: right;\">-0.286486</td><td style = \"text-align: right;\">-0.849059</td><td style = \"text-align: right;\">0.144182</td><td style = \"text-align: right;\">-1.48386</td></tr><tr><td class = \"rowNumber\" style = \"font-weight: bold; text-align: right;\">2</td><td style = \"text-align: right;\">2.0</td><td style = \"text-align: right;\">-1.2018</td><td style = \"text-align: right;\">-0.674603</td><td style = \"text-align: right;\">1.67055</td><td style = \"text-align: right;\">0.552223</td><td style = \"text-align: right;\">-0.426317</td><td style = \"text-align: right;\">-0.390374</td></tr><tr><td class = \"rowNumber\" style = \"font-weight: bold; text-align: right;\">3</td><td style = \"text-align: right;\">3.0</td><td style = \"text-align: right;\">-2.35962</td><td style = \"text-align: right;\">-0.573593</td><td style = \"text-align: right;\">0.172284</td><td style = \"text-align: right;\">0.776012</td><td style = \"text-align: right;\">-1.41463</td><td style = \"text-align: right;\">-0.473687</td></tr><tr><td class = \"rowNumber\" style = \"font-weight: bold; text-align: right;\">4</td><td style = \"text-align: right;\">4.0</td><td style = \"text-align: right;\">-6.2061</td><td style = \"text-align: right;\">0.989915</td><td style = \"text-align: right;\">-2.67461</td><td style = \"text-align: right;\">0.513699</td><td style = \"text-align: right;\">-0.0889016</td><td style = \"text-align: right;\">-1.33287</td></tr><tr><td class = \"rowNumber\" style = \"font-weight: bold; text-align: right;\">5</td><td style = \"text-align: right;\">5.0</td><td style = \"text-align: right;\">10.202</td><td style = \"text-align: right;\">0.494001</td><td style = \"text-align: right;\">1.06947</td><td style = \"text-align: right;\">0.209045</td><td style = \"text-align: right;\">-1.3797</td><td style = \"text-align: right;\">1.13499</td></tr><tr><td class = \"rowNumber\" style = \"font-weight: bold; text-align: right;\">6</td><td style = \"text-align: right;\">6.0</td><td style = \"text-align: right;\">14.9549</td><td style = \"text-align: right;\">-3.73795</td><td style = \"text-align: right;\">1.5853</td><td style = \"text-align: right;\">-0.496657</td><td style = \"text-align: right;\">1.80753</td><td style = \"text-align: right;\">0.70596</td></tr><tr><td class = \"rowNumber\" style = \"font-weight: bold; text-align: right;\">7</td><td style = \"text-align: right;\">7.0</td><td style = \"text-align: right;\">19.4408</td><td style = \"text-align: right;\">0.105969</td><td style = \"text-align: right;\">-0.431515</td><td style = \"text-align: right;\">1.62142</td><td style = \"text-align: right;\">-0.0441126</td><td style = \"text-align: right;\">1.71285</td></tr></tbody></table></div>"
      ],
      "text/latex": [
       "\\begin{tabular}{r|ccccccc}\n",
       "\t& i & y & x1 & x2 & x3 & x4 & x5\\\\\n",
       "\t\\hline\n",
       "\t& Float64 & Float64 & Float64 & Float64 & Float64 & Float64 & Float64\\\\\n",
       "\t\\hline\n",
       "\t1 & 1.0 & -1.95867 & 0.966174 & -0.286486 & -0.849059 & 0.144182 & -1.48386 \\\\\n",
       "\t2 & 2.0 & -1.2018 & -0.674603 & 1.67055 & 0.552223 & -0.426317 & -0.390374 \\\\\n",
       "\t3 & 3.0 & -2.35962 & -0.573593 & 0.172284 & 0.776012 & -1.41463 & -0.473687 \\\\\n",
       "\t4 & 4.0 & -6.2061 & 0.989915 & -2.67461 & 0.513699 & -0.0889016 & -1.33287 \\\\\n",
       "\t5 & 5.0 & 10.202 & 0.494001 & 1.06947 & 0.209045 & -1.3797 & 1.13499 \\\\\n",
       "\t6 & 6.0 & 14.9549 & -3.73795 & 1.5853 & -0.496657 & 1.80753 & 0.70596 \\\\\n",
       "\t7 & 7.0 & 19.4408 & 0.105969 & -0.431515 & 1.62142 & -0.0441126 & 1.71285 \\\\\n",
       "\\end{tabular}\n"
      ],
      "text/plain": [
       "\u001b[1m7×7 DataFrame\u001b[0m\n",
       "\u001b[1m Row \u001b[0m│\u001b[1m i       \u001b[0m\u001b[1m y        \u001b[0m\u001b[1m x1        \u001b[0m\u001b[1m x2        \u001b[0m\u001b[1m x3        \u001b[0m\u001b[1m x4         \u001b[0m\u001b[1m x5     \u001b[0m ⋯\n",
       "     │\u001b[90m Float64 \u001b[0m\u001b[90m Float64  \u001b[0m\u001b[90m Float64   \u001b[0m\u001b[90m Float64   \u001b[0m\u001b[90m Float64   \u001b[0m\u001b[90m Float64    \u001b[0m\u001b[90m Float64\u001b[0m ⋯\n",
       "─────┼──────────────────────────────────────────────────────────────────────────\n",
       "   1 │     1.0  -1.95867   0.966174  -0.286486  -0.849059   0.144182   -1.4838 ⋯\n",
       "   2 │     2.0  -1.2018   -0.674603   1.67055    0.552223  -0.426317   -0.3903\n",
       "   3 │     3.0  -2.35962  -0.573593   0.172284   0.776012  -1.41463    -0.4736\n",
       "   4 │     4.0  -6.2061    0.989915  -2.67461    0.513699  -0.0889016  -1.3328\n",
       "   5 │     5.0  10.202     0.494001   1.06947    0.209045  -1.3797      1.1349 ⋯\n",
       "   6 │     6.0  14.9549   -3.73795    1.5853    -0.496657   1.80753     0.7059\n",
       "   7 │     7.0  19.4408    0.105969  -0.431515   1.62142   -0.0441126   1.7128\n",
       "\u001b[36m                                                                1 column omitted\u001b[0m"
      ]
     },
     "execution_count": 46,
     "metadata": {},
     "output_type": "execute_result"
    }
   ],
   "source": [
    "using DataFrames\n",
    "\n",
    "function genCrossSectionalData(α, β, σ, nofx, N)\n",
    "    x = rand(Normal(), (N, nofx));\n",
    "    ϵ = rand(Normal(0, σ), N);\n",
    "    y = α .+ vec(x * transpose(β)) + ϵ;\n",
    "    \n",
    "    m = hcat(repeat(1:N), y, x);\n",
    "    df = DataFrame(m, :auto);\n",
    "    col_names = vcat(vec([\"i\", \"y\"]), [\"x$i\" for i in 1:nofx]);\n",
    "    rename!(df, col_names);\n",
    "    \n",
    "    return df\n",
    "end\n",
    "\n",
    "# usage example \n",
    "genCrossSectionalData(2, [1 2 3 4 5], 4, 5, 7)"
   ]
  },
  {
   "cell_type": "markdown",
   "id": "32631c5c",
   "metadata": {},
   "source": [
    "## Draw Regression Data: Panel Model\n",
    "\n",
    "Suppose you also want to generate panel data to test your routine. The model is\n",
    "\\begin{aligned}\n",
    "    y_{it} & = \\alpha_i + \\beta x_{it} + \\epsilon_{it},\\qquad i=1,\\ldots,N,\\ t=1,\\ldots,T,\\\\\n",
    "   \\epsilon_{it} & \\sim N(0, \\sigma^2).\n",
    "\\end{aligned}   \n",
    "\n",
    "Here, $i$ is the individual index and $t$ is the time index. For instance, $w_{13}$ means the value of $w$ for the 1st individual at 3rd time period. Assume the above model is the random-effect (RE) panel data model where $\\alpha_i \\sim N(0,\\sigma_a^2)$ is a random variable which is independently distributed from $x_{it}$. Write a function to generate data of $\\{y_{it}, x_{it}\\}$ with the options of $\\{\\beta, \\sigma^2, \\sigma_a^2, \\textrm{nofX}, N, T\\}$. \n",
    "\n",
    "  - Hint: Draw $\\alpha_i$ and expand it (`repeat()`) to fill the time periods. Generate $x_{it}$ and $\\epsilon_{it}$. Then combine these elements according to the equation to create $y_{it}$.\n",
    "  - Hint: You don't really need to understand what is RE model to generate the data. Just follow the notation and it should be ok.\n",
    "  - Hint: `repeat()` would be useful here.\n",
    "  - Hint: The structure of the dataset should look like the following. Note that $\\alpha_i$ is constant within a given $i$ but would change acorss different $i$'s. \n",
    "\n",
    "\n",
    "|\ti\t|\tt\t|\ty_it\t|\talpha_i\t|\tx_it\t|\n",
    "| ---\t| ---\t|\t--- \t| ---\t\t|\t---     |\n",
    "|\t1\t|\t1\t|\t0.173 \t|\t0.12\t|\t0.183 \t|\n",
    "|\t1\t|\t2\t|\t0.372 \t|\t0.12\t|\t0.804 \t|\n",
    "|\t1\t|\t3\t|\t0.239 \t|\t0.12\t|\t0.072 \t|\n",
    "|\t1\t|\t4\t|\t0.791 \t|\t0.12\t|\t0.272 \t|\n",
    "|\t2\t|\t1\t|\t0.443 \t|\t-0.45\t|\t0.705 \t|\n",
    "|\t2\t|\t2\t|\t0.825 \t|\t-0.45\t|\t0.619 \t|\n",
    "|\t2\t|\t3\t|\t0.681 \t|\t-0.45\t|\t0.769 \t|\n",
    "|\t2\t|\t4\t|\t0.694 \t|\t-0.45\t|\t0.575 \t|\n",
    "|\t3\t|\t1\t|\t0.192 \t|\t1.29\t|\t0.067 \t|\n",
    "|\t3\t|\t2\t|\t0.072 \t|\t1.29\t|\t0.553 \t|\n",
    "|\t3\t|\t3\t|\t0.522 \t|\t1.29\t|\t0.280 \t|\n",
    "|\t3\t|\t4\t|\t0.021 \t|\t1.29\t|\t0.306 \t|\n",
    "\n",
    "\n",
    "\n",
    "\n",
    "\n"
   ]
  },
  {
   "cell_type": "code",
   "execution_count": 47,
   "id": "fca1e1db",
   "metadata": {},
   "outputs": [
    {
     "data": {
      "text/html": [
       "<div><div style = \"float: left;\"><span>20×9 DataFrame</span></div><div style = \"clear: both;\"></div></div><div class = \"data-frame\" style = \"overflow-x: scroll;\"><table class = \"data-frame\" style = \"margin-bottom: 6px;\"><thead><tr class = \"header\"><th class = \"rowNumber\" style = \"font-weight: bold; text-align: right;\">Row</th><th style = \"text-align: left;\">i</th><th style = \"text-align: left;\">t</th><th style = \"text-align: left;\">α</th><th style = \"text-align: left;\">y</th><th style = \"text-align: left;\">x1</th><th style = \"text-align: left;\">x2</th><th style = \"text-align: left;\">x3</th><th style = \"text-align: left;\">x4</th><th style = \"text-align: left;\">x5</th></tr><tr class = \"subheader headerLastRow\"><th class = \"rowNumber\" style = \"font-weight: bold; text-align: right;\"></th><th title = \"Float64\" style = \"text-align: left;\">Float64</th><th title = \"Float64\" style = \"text-align: left;\">Float64</th><th title = \"Float64\" style = \"text-align: left;\">Float64</th><th title = \"Float64\" style = \"text-align: left;\">Float64</th><th title = \"Float64\" style = \"text-align: left;\">Float64</th><th title = \"Float64\" style = \"text-align: left;\">Float64</th><th title = \"Float64\" style = \"text-align: left;\">Float64</th><th title = \"Float64\" style = \"text-align: left;\">Float64</th><th title = \"Float64\" style = \"text-align: left;\">Float64</th></tr></thead><tbody><tr><td class = \"rowNumber\" style = \"font-weight: bold; text-align: right;\">1</td><td style = \"text-align: right;\">1.0</td><td style = \"text-align: right;\">1.0</td><td style = \"text-align: right;\">16.7941</td><td style = \"text-align: right;\">7.86697</td><td style = \"text-align: right;\">1.40796</td><td style = \"text-align: right;\">1.62817</td><td style = \"text-align: right;\">-0.100234</td><td style = \"text-align: right;\">2.23697</td><td style = \"text-align: right;\">-1.39978</td></tr><tr><td class = \"rowNumber\" style = \"font-weight: bold; text-align: right;\">2</td><td style = \"text-align: right;\">1.0</td><td style = \"text-align: right;\">2.0</td><td style = \"text-align: right;\">-3.27877</td><td style = \"text-align: right;\">7.86697</td><td style = \"text-align: right;\">1.03417</td><td style = \"text-align: right;\">-0.86898</td><td style = \"text-align: right;\">-0.79571</td><td style = \"text-align: right;\">-0.682059</td><td style = \"text-align: right;\">-0.583259</td></tr><tr><td class = \"rowNumber\" style = \"font-weight: bold; text-align: right;\">3</td><td style = \"text-align: right;\">1.0</td><td style = \"text-align: right;\">3.0</td><td style = \"text-align: right;\">4.34572</td><td style = \"text-align: right;\">7.86697</td><td style = \"text-align: right;\">-1.47984</td><td style = \"text-align: right;\">0.603314</td><td style = \"text-align: right;\">0.905927</td><td style = \"text-align: right;\">0.559968</td><td style = \"text-align: right;\">-1.09899</td></tr><tr><td class = \"rowNumber\" style = \"font-weight: bold; text-align: right;\">4</td><td style = \"text-align: right;\">1.0</td><td style = \"text-align: right;\">4.0</td><td style = \"text-align: right;\">13.2054</td><td style = \"text-align: right;\">7.86697</td><td style = \"text-align: right;\">0.248917</td><td style = \"text-align: right;\">-0.367608</td><td style = \"text-align: right;\">-0.550322</td><td style = \"text-align: right;\">1.27448</td><td style = \"text-align: right;\">0.80534</td></tr><tr><td class = \"rowNumber\" style = \"font-weight: bold; text-align: right;\">5</td><td style = \"text-align: right;\">1.0</td><td style = \"text-align: right;\">5.0</td><td style = \"text-align: right;\">7.85375</td><td style = \"text-align: right;\">7.86697</td><td style = \"text-align: right;\">-0.415601</td><td style = \"text-align: right;\">-0.248869</td><td style = \"text-align: right;\">0.823709</td><td style = \"text-align: right;\">-1.05817</td><td style = \"text-align: right;\">0.952851</td></tr><tr><td class = \"rowNumber\" style = \"font-weight: bold; text-align: right;\">6</td><td style = \"text-align: right;\">2.0</td><td style = \"text-align: right;\">1.0</td><td style = \"text-align: right;\">3.15606</td><td style = \"text-align: right;\">4.07328</td><td style = \"text-align: right;\">-1.32431</td><td style = \"text-align: right;\">1.04366</td><td style = \"text-align: right;\">-0.259475</td><td style = \"text-align: right;\">0.961963</td><td style = \"text-align: right;\">-0.947292</td></tr><tr><td class = \"rowNumber\" style = \"font-weight: bold; text-align: right;\">7</td><td style = \"text-align: right;\">2.0</td><td style = \"text-align: right;\">2.0</td><td style = \"text-align: right;\">18.9584</td><td style = \"text-align: right;\">4.07328</td><td style = \"text-align: right;\">-0.631389</td><td style = \"text-align: right;\">1.20318</td><td style = \"text-align: right;\">1.54582</td><td style = \"text-align: right;\">0.843967</td><td style = \"text-align: right;\">0.741295</td></tr><tr><td class = \"rowNumber\" style = \"font-weight: bold; text-align: right;\">8</td><td style = \"text-align: right;\">2.0</td><td style = \"text-align: right;\">3.0</td><td style = \"text-align: right;\">6.1052</td><td style = \"text-align: right;\">4.07328</td><td style = \"text-align: right;\">-1.80559</td><td style = \"text-align: right;\">-0.738059</td><td style = \"text-align: right;\">0.544639</td><td style = \"text-align: right;\">0.0105297</td><td style = \"text-align: right;\">0.441611</td></tr><tr><td class = \"rowNumber\" style = \"font-weight: bold; text-align: right;\">9</td><td style = \"text-align: right;\">2.0</td><td style = \"text-align: right;\">4.0</td><td style = \"text-align: right;\">-3.78242</td><td style = \"text-align: right;\">4.07328</td><td style = \"text-align: right;\">-0.248691</td><td style = \"text-align: right;\">0.025421</td><td style = \"text-align: right;\">-1.2689</td><td style = \"text-align: right;\">-0.190716</td><td style = \"text-align: right;\">-0.9009</td></tr><tr><td class = \"rowNumber\" style = \"font-weight: bold; text-align: right;\">10</td><td style = \"text-align: right;\">2.0</td><td style = \"text-align: right;\">5.0</td><td style = \"text-align: right;\">-11.2848</td><td style = \"text-align: right;\">4.07328</td><td style = \"text-align: right;\">-1.82919</td><td style = \"text-align: right;\">-2.71745</td><td style = \"text-align: right;\">0.821358</td><td style = \"text-align: right;\">-0.716592</td><td style = \"text-align: right;\">-1.26155</td></tr><tr><td class = \"rowNumber\" style = \"font-weight: bold; text-align: right;\">11</td><td style = \"text-align: right;\">3.0</td><td style = \"text-align: right;\">1.0</td><td style = \"text-align: right;\">-1.93098</td><td style = \"text-align: right;\">0.869501</td><td style = \"text-align: right;\">-0.970321</td><td style = \"text-align: right;\">-0.132327</td><td style = \"text-align: right;\">2.17167</td><td style = \"text-align: right;\">-1.233</td><td style = \"text-align: right;\">-0.62677</td></tr><tr><td class = \"rowNumber\" style = \"font-weight: bold; text-align: right;\">12</td><td style = \"text-align: right;\">3.0</td><td style = \"text-align: right;\">2.0</td><td style = \"text-align: right;\">6.4495</td><td style = \"text-align: right;\">0.869501</td><td style = \"text-align: right;\">0.450565</td><td style = \"text-align: right;\">-0.0753091</td><td style = \"text-align: right;\">0.0120114</td><td style = \"text-align: right;\">-0.160185</td><td style = \"text-align: right;\">0.387447</td></tr><tr><td class = \"rowNumber\" style = \"font-weight: bold; text-align: right;\">13</td><td style = \"text-align: right;\">3.0</td><td style = \"text-align: right;\">3.0</td><td style = \"text-align: right;\">-12.8964</td><td style = \"text-align: right;\">0.869501</td><td style = \"text-align: right;\">-0.457212</td><td style = \"text-align: right;\">-0.256432</td><td style = \"text-align: right;\">-0.350656</td><td style = \"text-align: right;\">-0.555973</td><td style = \"text-align: right;\">-1.56049</td></tr><tr><td class = \"rowNumber\" style = \"font-weight: bold; text-align: right;\">14</td><td style = \"text-align: right;\">3.0</td><td style = \"text-align: right;\">4.0</td><td style = \"text-align: right;\">-3.07711</td><td style = \"text-align: right;\">0.869501</td><td style = \"text-align: right;\">0.0144361</td><td style = \"text-align: right;\">-0.0803356</td><td style = \"text-align: right;\">-0.703842</td><td style = \"text-align: right;\">-1.83211</td><td style = \"text-align: right;\">1.33162</td></tr><tr><td class = \"rowNumber\" style = \"font-weight: bold; text-align: right;\">15</td><td style = \"text-align: right;\">3.0</td><td style = \"text-align: right;\">5.0</td><td style = \"text-align: right;\">-8.3382</td><td style = \"text-align: right;\">0.869501</td><td style = \"text-align: right;\">1.25389</td><td style = \"text-align: right;\">-0.632903</td><td style = \"text-align: right;\">-1.30039</td><td style = \"text-align: right;\">-0.962444</td><td style = \"text-align: right;\">-0.5206</td></tr><tr><td class = \"rowNumber\" style = \"font-weight: bold; text-align: right;\">16</td><td style = \"text-align: right;\">4.0</td><td style = \"text-align: right;\">1.0</td><td style = \"text-align: right;\">10.7598</td><td style = \"text-align: right;\">2.90227</td><td style = \"text-align: right;\">0.844739</td><td style = \"text-align: right;\">0.21923</td><td style = \"text-align: right;\">-0.0456483</td><td style = \"text-align: right;\">1.45984</td><td style = \"text-align: right;\">0.0259384</td></tr><tr><td class = \"rowNumber\" style = \"font-weight: bold; text-align: right;\">17</td><td style = \"text-align: right;\">4.0</td><td style = \"text-align: right;\">2.0</td><td style = \"text-align: right;\">-6.70225</td><td style = \"text-align: right;\">2.90227</td><td style = \"text-align: right;\">-0.432498</td><td style = \"text-align: right;\">1.34491</td><td style = \"text-align: right;\">-0.546646</td><td style = \"text-align: right;\">-0.613232</td><td style = \"text-align: right;\">-1.47185</td></tr><tr><td class = \"rowNumber\" style = \"font-weight: bold; text-align: right;\">18</td><td style = \"text-align: right;\">4.0</td><td style = \"text-align: right;\">3.0</td><td style = \"text-align: right;\">15.4981</td><td style = \"text-align: right;\">2.90227</td><td style = \"text-align: right;\">-0.123789</td><td style = \"text-align: right;\">1.74798</td><td style = \"text-align: right;\">1.40095</td><td style = \"text-align: right;\">1.20457</td><td style = \"text-align: right;\">-0.00484313</td></tr><tr><td class = \"rowNumber\" style = \"font-weight: bold; text-align: right;\">19</td><td style = \"text-align: right;\">4.0</td><td style = \"text-align: right;\">4.0</td><td style = \"text-align: right;\">8.82866</td><td style = \"text-align: right;\">2.90227</td><td style = \"text-align: right;\">-0.118229</td><td style = \"text-align: right;\">0.557782</td><td style = \"text-align: right;\">-0.291776</td><td style = \"text-align: right;\">-0.205205</td><td style = \"text-align: right;\">0.709231</td></tr><tr><td class = \"rowNumber\" style = \"font-weight: bold; text-align: right;\">20</td><td style = \"text-align: right;\">4.0</td><td style = \"text-align: right;\">5.0</td><td style = \"text-align: right;\">0.651635</td><td style = \"text-align: right;\">2.90227</td><td style = \"text-align: right;\">-0.107095</td><td style = \"text-align: right;\">-0.150567</td><td style = \"text-align: right;\">-0.743135</td><td style = \"text-align: right;\">0.885201</td><td style = \"text-align: right;\">-0.778377</td></tr></tbody></table></div>"
      ],
      "text/latex": [
       "\\begin{tabular}{r|ccccccccc}\n",
       "\t& i & t & α & y & x1 & x2 & x3 & x4 & \\\\\n",
       "\t\\hline\n",
       "\t& Float64 & Float64 & Float64 & Float64 & Float64 & Float64 & Float64 & Float64 & \\\\\n",
       "\t\\hline\n",
       "\t1 & 1.0 & 1.0 & 16.7941 & 7.86697 & 1.40796 & 1.62817 & -0.100234 & 2.23697 & $\\dots$ \\\\\n",
       "\t2 & 1.0 & 2.0 & -3.27877 & 7.86697 & 1.03417 & -0.86898 & -0.79571 & -0.682059 & $\\dots$ \\\\\n",
       "\t3 & 1.0 & 3.0 & 4.34572 & 7.86697 & -1.47984 & 0.603314 & 0.905927 & 0.559968 & $\\dots$ \\\\\n",
       "\t4 & 1.0 & 4.0 & 13.2054 & 7.86697 & 0.248917 & -0.367608 & -0.550322 & 1.27448 & $\\dots$ \\\\\n",
       "\t5 & 1.0 & 5.0 & 7.85375 & 7.86697 & -0.415601 & -0.248869 & 0.823709 & -1.05817 & $\\dots$ \\\\\n",
       "\t6 & 2.0 & 1.0 & 3.15606 & 4.07328 & -1.32431 & 1.04366 & -0.259475 & 0.961963 & $\\dots$ \\\\\n",
       "\t7 & 2.0 & 2.0 & 18.9584 & 4.07328 & -0.631389 & 1.20318 & 1.54582 & 0.843967 & $\\dots$ \\\\\n",
       "\t8 & 2.0 & 3.0 & 6.1052 & 4.07328 & -1.80559 & -0.738059 & 0.544639 & 0.0105297 & $\\dots$ \\\\\n",
       "\t9 & 2.0 & 4.0 & -3.78242 & 4.07328 & -0.248691 & 0.025421 & -1.2689 & -0.190716 & $\\dots$ \\\\\n",
       "\t10 & 2.0 & 5.0 & -11.2848 & 4.07328 & -1.82919 & -2.71745 & 0.821358 & -0.716592 & $\\dots$ \\\\\n",
       "\t11 & 3.0 & 1.0 & -1.93098 & 0.869501 & -0.970321 & -0.132327 & 2.17167 & -1.233 & $\\dots$ \\\\\n",
       "\t12 & 3.0 & 2.0 & 6.4495 & 0.869501 & 0.450565 & -0.0753091 & 0.0120114 & -0.160185 & $\\dots$ \\\\\n",
       "\t13 & 3.0 & 3.0 & -12.8964 & 0.869501 & -0.457212 & -0.256432 & -0.350656 & -0.555973 & $\\dots$ \\\\\n",
       "\t14 & 3.0 & 4.0 & -3.07711 & 0.869501 & 0.0144361 & -0.0803356 & -0.703842 & -1.83211 & $\\dots$ \\\\\n",
       "\t15 & 3.0 & 5.0 & -8.3382 & 0.869501 & 1.25389 & -0.632903 & -1.30039 & -0.962444 & $\\dots$ \\\\\n",
       "\t16 & 4.0 & 1.0 & 10.7598 & 2.90227 & 0.844739 & 0.21923 & -0.0456483 & 1.45984 & $\\dots$ \\\\\n",
       "\t17 & 4.0 & 2.0 & -6.70225 & 2.90227 & -0.432498 & 1.34491 & -0.546646 & -0.613232 & $\\dots$ \\\\\n",
       "\t18 & 4.0 & 3.0 & 15.4981 & 2.90227 & -0.123789 & 1.74798 & 1.40095 & 1.20457 & $\\dots$ \\\\\n",
       "\t19 & 4.0 & 4.0 & 8.82866 & 2.90227 & -0.118229 & 0.557782 & -0.291776 & -0.205205 & $\\dots$ \\\\\n",
       "\t20 & 4.0 & 5.0 & 0.651635 & 2.90227 & -0.107095 & -0.150567 & -0.743135 & 0.885201 & $\\dots$ \\\\\n",
       "\\end{tabular}\n"
      ],
      "text/plain": [
       "\u001b[1m20×9 DataFrame\u001b[0m\n",
       "\u001b[1m Row \u001b[0m│\u001b[1m i       \u001b[0m\u001b[1m t       \u001b[0m\u001b[1m α          \u001b[0m\u001b[1m y        \u001b[0m\u001b[1m x1         \u001b[0m\u001b[1m x2         \u001b[0m\u001b[1m x3     \u001b[0m ⋯\n",
       "     │\u001b[90m Float64 \u001b[0m\u001b[90m Float64 \u001b[0m\u001b[90m Float64    \u001b[0m\u001b[90m Float64  \u001b[0m\u001b[90m Float64    \u001b[0m\u001b[90m Float64    \u001b[0m\u001b[90m Float64\u001b[0m ⋯\n",
       "─────┼──────────────────────────────────────────────────────────────────────────\n",
       "   1 │     1.0      1.0   16.7941    7.86697    1.40796     1.62817    -0.1002 ⋯\n",
       "   2 │     1.0      2.0   -3.27877   7.86697    1.03417    -0.86898    -0.7957\n",
       "   3 │     1.0      3.0    4.34572   7.86697   -1.47984     0.603314    0.9059\n",
       "   4 │     1.0      4.0   13.2054    7.86697    0.248917   -0.367608   -0.5503\n",
       "   5 │     1.0      5.0    7.85375   7.86697   -0.415601   -0.248869    0.8237 ⋯\n",
       "   6 │     2.0      1.0    3.15606   4.07328   -1.32431     1.04366    -0.2594\n",
       "   7 │     2.0      2.0   18.9584    4.07328   -0.631389    1.20318     1.5458\n",
       "   8 │     2.0      3.0    6.1052    4.07328   -1.80559    -0.738059    0.5446\n",
       "   9 │     2.0      4.0   -3.78242   4.07328   -0.248691    0.025421   -1.2689 ⋯\n",
       "  10 │     2.0      5.0  -11.2848    4.07328   -1.82919    -2.71745     0.8213\n",
       "  11 │     3.0      1.0   -1.93098   0.869501  -0.970321   -0.132327    2.1716\n",
       "  12 │     3.0      2.0    6.4495    0.869501   0.450565   -0.0753091   0.0120\n",
       "  13 │     3.0      3.0  -12.8964    0.869501  -0.457212   -0.256432   -0.3506 ⋯\n",
       "  14 │     3.0      4.0   -3.07711   0.869501   0.0144361  -0.0803356  -0.7038\n",
       "  15 │     3.0      5.0   -8.3382    0.869501   1.25389    -0.632903   -1.3003\n",
       "  16 │     4.0      1.0   10.7598    2.90227    0.844739    0.21923    -0.0456\n",
       "  17 │     4.0      2.0   -6.70225   2.90227   -0.432498    1.34491    -0.5466 ⋯\n",
       "  18 │     4.0      3.0   15.4981    2.90227   -0.123789    1.74798     1.4009\n",
       "  19 │     4.0      4.0    8.82866   2.90227   -0.118229    0.557782   -0.2917\n",
       "  20 │     4.0      5.0    0.651635  2.90227   -0.107095   -0.150567   -0.7431\n",
       "\u001b[36m                                                               3 columns omitted\u001b[0m"
      ]
     },
     "execution_count": 47,
     "metadata": {},
     "output_type": "execute_result"
    }
   ],
   "source": [
    "function genPanelData(β, σ, σα, nofx::Integer, N::Integer, T::Integer)\n",
    "    x = rand(Normal(), (N * T, nofx));\n",
    "    ϵ = rand(Normal(0, σ), (N * T));\n",
    "    \n",
    "    αs = [repeat(rand(Normal(0, σα), 1), T) for _ in 1:N];\n",
    "    α = αs[1];\n",
    "    for i in 2:N\n",
    "        α = vcat(α, αs[i]);\n",
    "    end\n",
    "    α = vec(α)\n",
    "    \n",
    "    y = α + vec(x * transpose(β)) + ϵ;\n",
    "    m = hcat([i for i in 1:N for _ in 1:T], [i for _ in 1:N for i in 1:T], y, α, x)\n",
    "    \n",
    "    col_names = vcat(vec([\"i\" \"t\" \"α\" \"y\"]), [\"x$i\" for i in 1:nofx])\n",
    "    df = DataFrame(m, :auto);\n",
    "    rename!(df, col_names);\n",
    "    \n",
    "    return df\n",
    "end\n",
    "\n",
    "# usage example\n",
    "genPanelData([1 2 3 4 5], 2, 3, 5, 4, 5) "
   ]
  }
 ],
 "metadata": {
  "@webio": {
   "lastCommId": null,
   "lastKernelId": null
  },
  "kernelspec": {
   "display_name": "Julia 1.8.5",
   "language": "julia",
   "name": "julia-1.8"
  },
  "language_info": {
   "file_extension": ".jl",
   "mimetype": "application/julia",
   "name": "julia",
   "version": "1.8.5"
  },
  "toc": {
   "base_numbering": 1,
   "nav_menu": {},
   "number_sections": true,
   "sideBar": true,
   "skip_h1_title": true,
   "title_cell": "Table of Contents",
   "title_sidebar": "Contents",
   "toc_cell": false,
   "toc_position": {},
   "toc_section_display": true,
   "toc_window_display": true
  }
 },
 "nbformat": 4,
 "nbformat_minor": 5
}
