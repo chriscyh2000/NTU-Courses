{
 "cells": [
  {
   "cell_type": "markdown",
   "id": "c471dc72",
   "metadata": {},
   "source": [
    "# 作業2"
   ]
  },
  {
   "cell_type": "markdown",
   "id": "54d1a0f9",
   "metadata": {},
   "source": [
    "## Draw Random Numbers from Uniform Distributions\n",
    "\n",
    "### Write code to draw a set of 10,000 random numbers that is uniformly distributed in (-2,3). \n",
    " - Hint: Stretch $U(0,1)$ to fit the bound of $U(-2,3)$.\n",
    " \n",
    "### What are the theoretical mean and standard deviation of the distribution $U(-2,3)$ ?\n",
    " \n",
    "### Show the mean and the standard deviation of the set of random numbers you've drawn. "
   ]
  },
  {
   "cell_type": "code",
   "execution_count": 72,
   "id": "a7018c2c",
   "metadata": {},
   "outputs": [
    {
     "name": "stdout",
     "output_type": "stream",
     "text": [
      "theoretical mean = 0.5\n",
      "theoretical standard deviation = 1.4433756729740645\n",
      "mean = 0.4725091031424865\n",
      "standard deviation = 1.3954381009108021\n"
     ]
    }
   ],
   "source": [
    "using Distributions\n",
    "\n",
    "d = Uniform(-2, 3);\n",
    "println(\"theoretical mean = \", mean(d));\n",
    "println(\"theoretical standard deviation = \", sqrt(var(d)));\n",
    "\n",
    "a1 = rand(d, 1000);\n",
    "println(\"mean = \", mean(a1));\n",
    "println(\"standard deviation = \", sqrt(var(a1)));"
   ]
  },
  {
   "cell_type": "markdown",
   "id": "71bf5a93",
   "metadata": {},
   "source": [
    "## Draw Random Numbers from Normal Distributions\n",
    "\n",
    "### Use `randn()` to draw a $1000\\times 2$ matrix of random numbers from $N(2,3)$ (a normal distribution with mean=2 and variance=3). Use `mean()` and `var()` to show that the empirical mean and variance are close to the theoretical values.\n",
    "- Hint: `randn()` generates N(0,1) random variables; you have to scale it to the appropriate mean and variance.\n",
    "- Hint: For constants `a` and `b`: $x \\sim N(\\mu, \\sigma^2)$, then $a*x \\sim N(a*\\mu, \\ a^2 \\sigma^2)$ and $x+b \\sim N(\\mu+b, \\ \\sigma^2)$.\n",
    "\n",
    "### Use `rand()` to draw a $1000\\times 2$ matrix of random numbers from $N(2,3)$. Use `mean()` and `var()` to show that the empirical mean and variance are close to the theoretical values.\n",
    "- Hint: `rand()` could take distributions as arguments, as we've shown in the class."
   ]
  },
  {
   "cell_type": "code",
   "execution_count": 60,
   "id": "13a88a11",
   "metadata": {},
   "outputs": [
    {
     "name": "stdout",
     "output_type": "stream",
     "text": [
      "m1 mean(empirical) = 2.009556913303116\n",
      "m1 variance(empirical) = 2.887795184455992\n"
     ]
    },
    {
     "data": {
      "text/plain": [
       "(1000, 2)"
      ]
     },
     "metadata": {},
     "output_type": "display_data"
    },
    {
     "name": "stdout",
     "output_type": "stream",
     "text": [
      "m2 mean(empirical) = 1.9607927801234142\n",
      "m2 variance(empirical) = 2.688097065254771\n"
     ]
    }
   ],
   "source": [
    "m1 = randn(1000, 2) * sqrt(3) .+ 2;\n",
    "println(\"m1 mean(empirical) = \", mean(m1));\n",
    "println(\"m1 variance(empirical) = \", var(m1));\n",
    "\n",
    "d = Normal(2, sqrt(3));\n",
    "m2 = rand(d, (1000, 2));\n",
    "println(\"m2 mean(empirical) = \", mean(m2));\n",
    "println(\"m2 variance(empirical) = \", var(m2));"
   ]
  },
  {
   "cell_type": "markdown",
   "id": "87cf30eb",
   "metadata": {},
   "source": [
    "## Draw Regression Data: Cross-Sectional Model\n",
    "\n",
    "Suppose you write your own routine to do fancy estimation on cross-sectional and panel data models. You want to conduct a Monte Carlo analysis to see if the routine works as expected and the returned answer is correct. The first thing you have to do is to generate data with pre-specified parameter values. (So that you could apply your estimation routine to the data and see if the estimated parameter values match the pre-specified (*true*) values.) \n",
    "\n",
    "Let's start from the cross-sectional model. The model is:\n",
    "\\begin{aligned} \n",
    "  y_i & = \\alpha + \\beta' x_i + \\epsilon_i,\\qquad i=1,\\ldots,N,\\\\\n",
    "  \\epsilon_i & \\sim N(0, \\sigma^2).\n",
    "\\end{aligned}   \n",
    "\n",
    "There could be more than one $x_i$ variable in the model; let's denote the number of $x_i$ as $\\textrm{nofX}$. Write a function to generate data $\\{y_i, x_i\\}$.The function should allow users to choose values of $\\{\\alpha, \\beta, \\sigma^2, \\textrm{nofX}, N\\}$.\n",
    "  - Hint: The $x_i$s are assumed (in econometrics) to be fixed and exogenous and therefore the distribution from which they are generated is inconsequential. （前面那句看不懂意思沒關係，重要是下面這句：）You may assume that they are generated from normal distributions."
   ]
  },
  {
   "cell_type": "code",
   "execution_count": 78,
   "id": "256f0016",
   "metadata": {},
   "outputs": [
    {
     "data": {
      "text/plain": [
       "genData (generic function with 1 method)"
      ]
     },
     "execution_count": 78,
     "metadata": {},
     "output_type": "execute_result"
    }
   ],
   "source": [
    "function genCrossSectionalData(α, β, σ, nofx, N)\n",
    "    x = rand(Normal(), (nofx, N));\n",
    "    error = rand(Normal(0, σ), (nofx, N));\n",
    "    y = α .+ β * x + error;\n",
    "    return (x, y);\n",
    "end"
   ]
  },
  {
   "cell_type": "markdown",
   "id": "32631c5c",
   "metadata": {},
   "source": [
    "## Draw Regression Data: Panel Model\n",
    "\n",
    "Suppose you also want to generate panel data to test your routine. The model is\n",
    "\\begin{aligned}\n",
    "    y_{it} & = \\alpha_i + \\beta x_{it} + \\epsilon_{it},\\qquad i=1,\\ldots,N,\\ t=1,\\ldots,T,\\\\\n",
    "   \\epsilon_{it} & \\sim N(0, \\sigma^2).\n",
    "\\end{aligned}   \n",
    "\n",
    "Here, $i$ is the individual index and $t$ is the time index. For instance, $w_{13}$ means the value of $w$ for the 1st individual at 3rd time period. Assume the above model is the random-effect (RE) panel data model where $\\alpha_i \\sim N(0,\\sigma_a^2)$ is a random variable which is independently distributed from $x_{it}$. Write a function to generate data of $\\{y_{it}, x_{it}\\}$ with the options of $\\{\\beta, \\sigma^2, \\sigma_a^2, \\textrm{nofX}, N, T\\}$. \n",
    "\n",
    "  - Hint: Draw $\\alpha_i$ and expand it (`repeat()`) to fill the time periods. Generate $x_{it}$ and $\\epsilon_{it}$. Then combine these elements according to the equation to create $y_{it}$.\n",
    "  - Hint: You don't really need to understand what is RE model to generate the data. Just follow the notation and it should be ok.\n",
    "  - Hint: `repeat()` would be useful here.\n",
    "  - Hint: The structure of the dataset should look like the following. Note that $\\alpha_i$ is constant within a given $i$ but would change acorss different $i$'s. \n",
    "\n",
    "\n",
    "|\ti\t|\tt\t|\ty_it\t|\talpha_i\t|\tx_it\t|\n",
    "| ---\t| ---\t|\t--- \t| ---\t\t|\t---     |\n",
    "|\t1\t|\t1\t|\t0.173 \t|\t0.12\t|\t0.183 \t|\n",
    "|\t1\t|\t2\t|\t0.372 \t|\t0.12\t|\t0.804 \t|\n",
    "|\t1\t|\t3\t|\t0.239 \t|\t0.12\t|\t0.072 \t|\n",
    "|\t1\t|\t4\t|\t0.791 \t|\t0.12\t|\t0.272 \t|\n",
    "|\t2\t|\t1\t|\t0.443 \t|\t-0.45\t|\t0.705 \t|\n",
    "|\t2\t|\t2\t|\t0.825 \t|\t-0.45\t|\t0.619 \t|\n",
    "|\t2\t|\t3\t|\t0.681 \t|\t-0.45\t|\t0.769 \t|\n",
    "|\t2\t|\t4\t|\t0.694 \t|\t-0.45\t|\t0.575 \t|\n",
    "|\t3\t|\t1\t|\t0.192 \t|\t1.29\t|\t0.067 \t|\n",
    "|\t3\t|\t2\t|\t0.072 \t|\t1.29\t|\t0.553 \t|\n",
    "|\t3\t|\t3\t|\t0.522 \t|\t1.29\t|\t0.280 \t|\n",
    "|\t3\t|\t4\t|\t0.021 \t|\t1.29\t|\t0.306 \t|\n",
    "\n",
    "\n",
    "\n",
    "\n",
    "\n"
   ]
  },
  {
   "cell_type": "code",
   "execution_count": 2,
   "id": "fca1e1db",
   "metadata": {},
   "outputs": [
    {
     "data": {
      "text/plain": [
       "genPanelData (generic function with 1 method)"
      ]
     },
     "execution_count": 2,
     "metadata": {},
     "output_type": "execute_result"
    }
   ],
   "source": [
    "function genPanelData(β, σ, σα, nofx, N, T)\n",
    "    x = rand(Normal(), (nofx * N, T));\n",
    "    error = rand(Normal(0, σ), (nofx * N, T));\n",
    "    α = repeat(rand(Normal(0, σα), (N, 1)), nofx, T);\n",
    "    y = α + β * x + error;\n",
    "    return (x, y);\n",
    "end"
   ]
  }
 ],
 "metadata": {
  "@webio": {
   "lastCommId": null,
   "lastKernelId": null
  },
  "kernelspec": {
   "display_name": "Julia 1.8.5",
   "language": "julia",
   "name": "julia-1.8"
  },
  "language_info": {
   "file_extension": ".jl",
   "mimetype": "application/julia",
   "name": "julia",
   "version": "1.8.5"
  },
  "toc": {
   "base_numbering": 1,
   "nav_menu": {},
   "number_sections": true,
   "sideBar": true,
   "skip_h1_title": true,
   "title_cell": "Table of Contents",
   "title_sidebar": "Contents",
   "toc_cell": false,
   "toc_position": {},
   "toc_section_display": true,
   "toc_window_display": true
  }
 },
 "nbformat": 4,
 "nbformat_minor": 5
}
