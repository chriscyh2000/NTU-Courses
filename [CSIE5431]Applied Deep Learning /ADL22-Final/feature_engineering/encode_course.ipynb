{
 "cells": [
  {
   "cell_type": "code",
   "execution_count": 1,
   "metadata": {},
   "outputs": [],
   "source": [
    "import json\n",
    "import pandas as pd\n",
    "import numpy as np\n",
    "import pickle"
   ]
  },
  {
   "cell_type": "code",
   "execution_count": 5,
   "metadata": {},
   "outputs": [],
   "source": [
    "course_to_encode = \"../processed_datas/train_courses.json\"\n",
    "out_file = f\"{course_to_encode.rstrip('.json')}_embeds.pkl\"\n",
    "\n",
    "with open(course_to_encode, \"r\") as f:\n",
    "    course_to_encode = json.load(f)\n",
    "\n",
    "course_to_encode = pd.DataFrame(course_to_encode)\n",
    "texts = course_to_encode[\"text\"]"
   ]
  },
  {
   "cell_type": "code",
   "execution_count": 11,
   "metadata": {},
   "outputs": [
    {
     "name": "stderr",
     "output_type": "stream",
     "text": [
      "No sentence-transformers model found with name /home/b09901073/.cache/torch/sentence_transformers/shibing624_text2vec-base-chinese. Creating a new one with MEAN pooling.\n"
     ]
    },
    {
     "name": "stdout",
     "output_type": "stream",
     "text": [
      "(728, 768)\n"
     ]
    }
   ],
   "source": [
    "from sentence_transformers import SentenceTransformer\n",
    "m = SentenceTransformer(\"shibing624/text2vec-base-chinese\")\n",
    "\n",
    "embeds = m.encode([text for text in texts])\n",
    "print(embeds.shape)\n",
    "\n",
    "with open(out_file, \"wb\") as f:\n",
    "    pickle.dump(embeds, f)"
   ]
  }
 ],
 "metadata": {
  "kernelspec": {
   "display_name": "adl",
   "language": "python",
   "name": "python3"
  },
  "language_info": {
   "codemirror_mode": {
    "name": "ipython",
    "version": 3
   },
   "file_extension": ".py",
   "mimetype": "text/x-python",
   "name": "python",
   "nbconvert_exporter": "python",
   "pygments_lexer": "ipython3",
   "version": "3.8.15"
  },
  "orig_nbformat": 4,
  "vscode": {
   "interpreter": {
    "hash": "825ef558ec91ccb369c5ade66cb9ed2dc49eb7a1baf3f301fee22ad84418e33e"
   }
  }
 },
 "nbformat": 4,
 "nbformat_minor": 2
}
