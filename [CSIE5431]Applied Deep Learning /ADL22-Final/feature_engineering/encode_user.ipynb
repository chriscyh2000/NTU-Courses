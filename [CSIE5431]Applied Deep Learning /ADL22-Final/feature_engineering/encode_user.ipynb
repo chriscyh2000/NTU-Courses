{
 "cells": [
  {
   "cell_type": "code",
   "execution_count": 5,
   "metadata": {},
   "outputs": [],
   "source": [
    "import json\n",
    "import pandas as pd\n",
    "import numpy as np\n",
    "import pickle"
   ]
  },
  {
   "cell_type": "code",
   "execution_count": 6,
   "metadata": {},
   "outputs": [],
   "source": [
    "user_to_encode = \"../processed_datas/val_unseen.json\"\n",
    "word_embeds = \"../processed_datas/word_embeds.pkl\"\n",
    "out_file = f\"{user_to_encode.rstrip('.json')}_embeds.pkl\"\n",
    "\n",
    "with open(user_to_encode, \"r\") as f:\n",
    "    user_to_encode = json.load(f)\n",
    "\n",
    "user_to_encode = pd.DataFrame(user_to_encode)\n",
    "texts = user_to_encode[\"text\"]"
   ]
  },
  {
   "cell_type": "code",
   "execution_count": 7,
   "metadata": {},
   "outputs": [],
   "source": [
    "class counter():\n",
    "    def __init__(self):\n",
    "        self.count = {}\n",
    "    def update(self, key):\n",
    "        self.count[key] = self.count.get(key, 0) + 1\n",
    "    def __str__(self):\n",
    "        return str(self.count)\n",
    "\n",
    "genders = counter()\n",
    "occupations = counter()\n",
    "interests = counter()\n",
    "recreations = counter()\n",
    "for text in texts:\n",
    "    splits = [text.index(\"[OCCUPATION]\"), text.index(\"[INTERESTS]\"), text.index(\"[RECREATION]\")]\n",
    "    gender_text = text[:splits[0]][8:]\n",
    "    occupation_text = text[splits[0]:splits[1]][12:]\n",
    "    interests_text = text[splits[1]:splits[2]][11:]\n",
    "    recreation_text = text[splits[2]:][12:]\n",
    "\n",
    "    genders.update(gender_text)\n",
    "    for o in occupation_text.split(\",\"):\n",
    "        occupations.update(o)\n",
    "    for i in interests_text.split(\",\"):\n",
    "        interests.update(i)\n",
    "    for r in recreation_text.split(\",\"):\n",
    "        recreations.update(r)\n",
    "\n",
    "counts = {\n",
    "    \"gender\": genders.count,\n",
    "    \"occupation\": occupations.count,\n",
    "    \"interests\": interests.count,\n",
    "    \"recreation\": recreations.count\n",
    "}\n",
    "\n",
    "total_features = sum([len(counts[key]) for key in counts])\n",
    "feats = []\n",
    "\n",
    "for text in texts:\n",
    "    splits = [text.index(\"[OCCUPATION]\"), text.index(\"[INTERESTS]\"), text.index(\"[RECREATION]\")]\n",
    "    gender_text = text[:splits[0]][8:]\n",
    "    occupation_text = text[splits[0]:splits[1]][12:]\n",
    "    interests_text = text[splits[1]:splits[2]][11:]\n",
    "    recreation_text = text[splits[2]:][12:]\n",
    "\n",
    "    feat = np.zeros(total_features)\n",
    "    i = 0\n",
    "    pos = list(counts[\"gender\"].keys()).index(gender_text)\n",
    "    feat[i + pos] = feat[i + pos] + 1\n",
    "\n",
    "    i += len(counts[\"gender\"].keys())\n",
    "    for o in occupation_text.split(\",\"):\n",
    "        pos = list(counts[\"occupation\"].keys()).index(o)\n",
    "        feat[i + pos] = feat[i + pos] + 1\n",
    "    \n",
    "    i += len(counts[\"occupation\"].keys())\n",
    "    for it in interests_text.split(\",\"):\n",
    "        pos = list(counts[\"interests\"].keys()).index(it)\n",
    "        feat[i + pos] = feat[i + pos] + 1\n",
    "\n",
    "    i += len(counts[\"interests\"].keys())\n",
    "    for r in recreation_text.split(\",\"):\n",
    "        pos = list(counts[\"recreation\"].keys()).index(r)\n",
    "        feat[i + pos] = feat[i + pos] + 1\n",
    "\n",
    "    feats.append(feat)"
   ]
  },
  {
   "cell_type": "code",
   "execution_count": 8,
   "metadata": {},
   "outputs": [],
   "source": [
    "with open(out_file, \"wb\") as f:\n",
    "    pickle.dump(feats, f)"
   ]
  },
  {
   "cell_type": "code",
   "execution_count": 13,
   "metadata": {},
   "outputs": [
    {
     "name": "stdout",
     "output_type": "stream",
     "text": [
      "['female', 'other', 'male', '', '金融業', '服務業', '', '教學專業', '廣告傳播', '自由業', '製造業', '資訊科技', '農林漁牧', '非營利組織', '家管', '藝文設計', '其他', '法律、社會及文化專業', '科技業', '公務人員', '營建工程', '醫療', '出版業', '職業軍人', '退休', '生活品味_寵物', '手作_手作小物', '生活品味_親子教育', '手作_刺繡', '生活品味_烹飪料理與甜點', '攝影_商業攝影', '設計_平面設計', '設計_應用設計', '行銷_文案', '攝影_後製剪輯', '行銷_數位行銷', '行銷_社群行銷', '程式_程式入門', '程式_程式理財', '程式_網頁前端', '程式_資料科學', '投資理財_金融商品', '投資理財_理財', '投資理財_投資觀念', '程式_程式語言', '程式_網頁後端', '職場技能_效率提升', '職場技能_個人品牌經營', '語言_英文', '職場技能_資料彙整', '藝術_繪畫與插畫', '藝術_手寫字', '藝術_字體設計', '投資理財_量化交易', '投資理財_比特幣', '職場技能_創業', '生活品味_運動', '設計_動態設計', '職場技能_職場溝通', '設計_介面設計', '攝影_動態攝影', '攝影_影像創作', '攝影_影視創作', '職場技能_產品設計', '程式_網站架設', '設計_網頁設計', '投資理財_更多投資理財', '藝術_素描', '藝術_更多藝術', '音樂_樂器', '音樂_音樂創作', '攝影_攝影理論', '程式_遊戲開發', '音樂_音樂理論', '音樂_人聲', '藝術_電腦繪圖', '手作_更多手作', '程式_量化分析', '攝影_更多攝影', '語言_歐洲語言', '行銷_更多行銷', '人文_社會科學', '人文_文學', '語言_日文', '藝術_角色設計', '程式_手機程式開發', '生活品味_心靈成長與教育', '人文_更多人文', '職場技能_文書處理', '設計_更多設計', '生活品味_壓力舒緩', '手作_手工書', '語言_更多語言', '語言_韓文', '設計_設計理論', '程式_區塊鏈', '手作_手工印刷', '藝術_色彩學', '手作_篆刻', '音樂_DJ', '程式_程式思維', '程式_更多程式', '程式_軟體程式開發與維護', '程式_資訊安全', '生活品味_護膚保養與化妝', '生活品味_數學', '生活品味_更多生活品味', '職場技能_更多職場技能', '音樂_更多音樂', '職場技能_求職', '語言_西班牙文', '手作_氣球', '手作_模型', '生活品味_居家', '生活品味_靈性發展', '行銷_數據分析', '程式_AI 人工智慧', '語言_翻譯', '職場技能_獨立接案', '', '藝術_表演藝術', '手作', '手寫字', '瑜珈', '美容妝髮', '貓派', '插畫', '旅行旅遊', '水彩', '電腦繪圖', '電視劇', '', '閱讀', '電影', '電玩', '區塊鏈', '占卜', '寫作', '政治經濟', '書法', '狗派', '運動健身', '金融理財', '舞台劇', '素描', '社會服務', '速寫', '桌遊', '手遊', '插花', '運動賽事', '舞蹈', '棋類遊戲']\n",
      "153\n"
     ]
    }
   ],
   "source": [
    "words = [k for c in counts.values() for k in c.keys()]\n",
    "print(words)\n",
    "print(len(words))"
   ]
  },
  {
   "cell_type": "code",
   "execution_count": 14,
   "metadata": {},
   "outputs": [
    {
     "name": "stderr",
     "output_type": "stream",
     "text": [
      "No sentence-transformers model found with name /home/b09901073/.cache/torch/sentence_transformers/shibing624_text2vec-base-chinese. Creating a new one with MEAN pooling.\n"
     ]
    },
    {
     "name": "stdout",
     "output_type": "stream",
     "text": [
      "(153, 768)\n"
     ]
    }
   ],
   "source": [
    "from sentence_transformers import SentenceTransformer\n",
    "m = SentenceTransformer(\"shibing624/text2vec-base-chinese\")\n",
    "\n",
    "embeds = m.encode(words)\n",
    "print(embeds.shape)\n",
    "\n",
    "with open(word_embeds, \"wb\") as f:\n",
    "    pickle.dump(embeds, f)\n"
   ]
  },
  {
   "cell_type": "code",
   "execution_count": 17,
   "metadata": {},
   "outputs": [
    {
     "name": "stdout",
     "output_type": "stream",
     "text": [
      "[0. 0. 1. 0. 0. 0. 0. 0. 1. 0. 0. 0. 0. 0. 0. 0. 0. 0. 0. 0. 0. 0. 0. 0.\n",
      " 0. 0. 0. 0. 0. 1. 0. 0. 0. 0. 1. 0. 0. 1. 0. 1. 0. 0. 0. 0. 0. 0. 0. 0.\n",
      " 0. 0. 0. 0. 0. 0. 0. 0. 0. 0. 0. 0. 1. 1. 0. 0. 0. 1. 0. 1. 0. 1. 0. 1.\n",
      " 1. 1. 1. 1. 0. 0. 0. 0. 0. 0. 0. 0. 0. 0. 0. 0. 0. 0. 0. 0. 0. 0. 0. 0.\n",
      " 0. 0. 0. 0. 0. 0. 0. 0. 0. 0. 0. 0. 0. 0. 0. 0. 0. 0. 0. 0. 0. 0. 0. 0.\n",
      " 0. 0. 0. 0. 0. 0. 0. 0. 0. 0. 0. 0. 0. 1. 1. 0. 0. 0. 0. 0. 0. 0. 0. 0.\n",
      " 0. 0. 0. 0. 0. 0. 0. 0. 0.]\n",
      "153\n"
     ]
    }
   ],
   "source": [
    "print(feats[10])\n",
    "print(len(feats[0]))"
   ]
  },
  {
   "cell_type": "code",
   "execution_count": 18,
   "metadata": {},
   "outputs": [
    {
     "name": "stdout",
     "output_type": "stream",
     "text": [
      "{'female': 7461, 'other': 215, 'male': 3451, '': 495}\n",
      "{'金融業': 231, '服務業': 568, '': 8069, '教學專業': 340, '廣告傳播': 298, '自由業': 463, '製造業': 354, '資訊科技': 499, '農林漁牧': 49, '非營利組織': 100, '家管': 148, '藝文設計': 676, '其他': 577, '法律、社會及文化專業': 117, '科技業': 300, '公務人員': 171, '營建工程': 117, '醫療': 249, '出版業': 82, '職業軍人': 29, '退休': 20}\n",
      "{'生活品味_寵物': 825, '手作_手作小物': 1584, '生活品味_親子教育': 811, '手作_刺繡': 770, '生活品味_烹飪料理與甜點': 2157, '攝影_商業攝影': 1809, '設計_平面設計': 3072, '設計_應用設計': 1097, '行銷_文案': 1786, '攝影_後製剪輯': 2378, '行銷_數位行銷': 2415, '行銷_社群行銷': 1799, '程式_程式入門': 1360, '程式_程式理財': 681, '程式_網頁前端': 951, '程式_資料科學': 671, '投資理財_金融商品': 1621, '投資理財_理財': 2966, '投資理財_投資觀念': 2607, '程式_程式語言': 1217, '程式_網頁後端': 568, '職場技能_效率提升': 1744, '職場技能_個人品牌經營': 1771, '語言_英文': 3380, '職場技能_資料彙整': 1812, '藝術_繪畫與插畫': 3049, '藝術_手寫字': 1310, '藝術_字體設計': 1085, '投資理財_量化交易': 548, '投資理財_比特幣': 526, '職場技能_創業': 1377, '生活品味_運動': 1433, '設計_動態設計': 1341, '職場技能_職場溝通': 2014, '設計_介面設計': 1047, '攝影_動態攝影': 1186, '攝影_影像創作': 2739, '攝影_影視創作': 922, '職場技能_產品設計': 1022, '程式_網站架設': 769, '設計_網頁設計': 1688, '投資理財_更多投資理財': 668, '藝術_素描': 878, '藝術_更多藝術': 977, '音樂_樂器': 1116, '音樂_音樂創作': 883, '攝影_攝影理論': 764, '程式_遊戲開發': 409, '音樂_音樂理論': 457, '音樂_人聲': 706, '藝術_電腦繪圖': 2671, '手作_更多手作': 1054, '程式_量化分析': 744, '攝影_更多攝影': 667, '語言_歐洲語言': 558, '行銷_更多行銷': 703, '人文_社會科學': 794, '人文_文學': 908, '語言_日文': 2748, '藝術_角色設計': 1225, '程式_手機程式開發': 624, '生活品味_心靈成長與教育': 1793, '人文_更多人文': 336, '職場技能_文書處理': 1612, '設計_更多設計': 613, '生活品味_壓力舒緩': 1346, '手作_手工書': 562, '語言_更多語言': 389, '語言_韓文': 1125, '設計_設計理論': 927, '程式_區塊鏈': 505, '手作_手工印刷': 523, '藝術_色彩學': 1275, '手作_篆刻': 273, '音樂_DJ': 265, '程式_程式思維': 548, '程式_更多程式': 156, '程式_軟體程式開發與維護': 372, '程式_資訊安全': 391, '生活品味_護膚保養與化妝': 1008, '生活品味_數學': 196, '生活品味_更多生活品味': 884, '職場技能_更多職場技能': 737, '音樂_更多音樂': 366, '職場技能_求職': 749, '語言_西班牙文': 553, '手作_氣球': 138, '手作_模型': 11, '生活品味_居家': 35, '生活品味_靈性發展': 16, '行銷_數據分析': 23, '程式_AI 人工智慧': 20, '語言_翻譯': 9, '職場技能_獨立接案': 32, '': 7, '藝術_表演藝術': 6}\n",
      "{'手作': 916, '手寫字': 631, '瑜珈': 659, '美容妝髮': 487, '貓派': 922, '插畫': 1053, '旅行旅遊': 2093, '水彩': 530, '電腦繪圖': 1015, '電視劇': 984, '': 7692, '閱讀': 1369, '電影': 1731, '電玩': 908, '區塊鏈': 306, '占卜': 583, '寫作': 532, '政治經濟': 344, '書法': 286, '狗派': 675, '運動健身': 1272, '金融理財': 1149, '舞台劇': 406, '素描': 481, '社會服務': 262, '速寫': 376, '桌遊': 563, '手遊': 531, '插花': 313, '運動賽事': 365, '舞蹈': 305, '棋類遊戲': 213}\n"
     ]
    }
   ],
   "source": [
    "print(genders)\n",
    "print(occupations)\n",
    "print(interests)\n",
    "print(recreations)"
   ]
  }
 ],
 "metadata": {
  "kernelspec": {
   "display_name": "adl",
   "language": "python",
   "name": "python3"
  },
  "language_info": {
   "codemirror_mode": {
    "name": "ipython",
    "version": 3
   },
   "file_extension": ".py",
   "mimetype": "text/x-python",
   "name": "python",
   "nbconvert_exporter": "python",
   "pygments_lexer": "ipython3",
   "version": "3.8.15"
  },
  "orig_nbformat": 4,
  "vscode": {
   "interpreter": {
    "hash": "825ef558ec91ccb369c5ade66cb9ed2dc49eb7a1baf3f301fee22ad84418e33e"
   }
  }
 },
 "nbformat": 4,
 "nbformat_minor": 2
}
