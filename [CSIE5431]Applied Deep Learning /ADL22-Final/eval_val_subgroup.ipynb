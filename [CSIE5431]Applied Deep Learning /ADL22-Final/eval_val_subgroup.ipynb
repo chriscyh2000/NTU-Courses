{
 "cells": [
  {
   "cell_type": "code",
   "execution_count": 1,
   "metadata": {},
   "outputs": [
    {
     "name": "stderr",
     "output_type": "stream",
     "text": [
      "/home/b09901073/.local/lib/python3.8/site-packages/tqdm/auto.py:22: TqdmWarning: IProgress not found. Please update jupyter and ipywidgets. See https://ipywidgets.readthedocs.io/en/stable/user_install.html\n",
      "  from .autonotebook import tqdm as notebook_tqdm\n"
     ]
    }
   ],
   "source": [
    "import torch\n",
    "import numpy as np\n",
    "from torch import nn\n",
    "from torch.utils.data import DataLoader, Dataset, Subset\n",
    "import transformers\n",
    "import json, pickle\n",
    "from models import *\n",
    "from tqdm import tqdm\n",
    "from utils import mapk\n",
    "import os"
   ]
  },
  {
   "cell_type": "code",
   "execution_count": 2,
   "metadata": {},
   "outputs": [],
   "source": [
    "prefix = \"combined_test_unseen\"\n",
    "user_embed_path = f\"processed_datas/{prefix}_embeddings.pkl\"\n",
    "user_path = f\"processed_datas/{prefix}.json\"\n",
    "course_embed_path = \"processed_datas/train_courses_embeddings.pkl\"\n",
    "\n",
    "with open(user_path, \"r\") as f:\n",
    "    users = json.load(f)\n",
    "\n",
    "with open(user_embed_path, \"rb\") as f:\n",
    "    user_embeds = pickle.load(f)"
   ]
  },
  {
   "cell_type": "code",
   "execution_count": 3,
   "metadata": {},
   "outputs": [],
   "source": [
    "class UserCourseDataset(Dataset):\n",
    "    def __init__(self, users, user_embeds, total_courses=92):\n",
    "        self.users = users\n",
    "        self.user_embeds = [torch.from_numpy(user_embed) for user_embed in user_embeds]\n",
    "        self.total_courses = total_courses\n",
    "\n",
    "    def __len__(self):\n",
    "        return len(self.users)\n",
    "\n",
    "    def __getitem__(self, idx):\n",
    "        labels = torch.zeros(self.total_courses)\n",
    "        labels = labels.scatter_(0, torch.tensor(self.users[idx][\"subgroups\"]), 1)\n",
    "        user_embed = self.user_embeds[idx]\n",
    "        return user_embed, labels\n",
    "\n",
    "def collate_fn(batch):\n",
    "    ### pad the user_embeds to the same length\n",
    "    # print(batch[0][0].shape)\n",
    "    max_len = max([item[0].shape[0] for item in batch])\n",
    "    embed_dim = batch[0][0].shape[1]\n",
    "    user_embeds = torch.stack([torch.cat([item[0], torch.zeros(max_len - item[0].shape[0], embed_dim)], dim=0) for item in batch])\n",
    "    labels = torch.stack([item[1] for item in batch])\n",
    "    return user_embeds, labels"
   ]
  },
  {
   "cell_type": "code",
   "execution_count": 4,
   "metadata": {},
   "outputs": [],
   "source": [
    "dataset = UserCourseDataset(users, user_embeds)"
   ]
  },
  {
   "cell_type": "code",
   "execution_count": 5,
   "metadata": {},
   "outputs": [],
   "source": [
    "dataloader = DataLoader(dataset, batch_size=32, shuffle=False, collate_fn=collate_fn)\n",
    "model = ValModelv0(nhead=8, num_tokens=92, in_size=512).cuda()\n",
    "# model.load_state_dict(torch.load(\"val_modelv0.pth\"))"
   ]
  },
  {
   "cell_type": "code",
   "execution_count": 6,
   "metadata": {},
   "outputs": [],
   "source": [
    "top10_scores = [0.3180500737698619, 0.3131914555527006, 0.31731365500919856, 0.31211073845310017, 0.31571356170372056, 0.3167765206503458, 0.31362011125222683, 0.31175490433947184, 0.31295463092443715, 0.31206028410984915]\n",
    "\n",
    "ranking = np.argsort(top10_scores)[::-1]\n",
    "\n",
    "k_results = 1"
   ]
  },
  {
   "cell_type": "code",
   "execution_count": 7,
   "metadata": {},
   "outputs": [
    {
     "name": "stderr",
     "output_type": "stream",
     "text": [
      "100%|██████████| 347/347 [00:05<00:00, 60.77it/s]\n"
     ]
    },
    {
     "name": "stdout",
     "output_type": "stream",
     "text": [
      "0.312826914707269\n"
     ]
    }
   ],
   "source": [
    "model.eval()\n",
    "total_samples = len(dataset)\n",
    "preds = np.zeros((total_samples, 92))\n",
    "\n",
    "for m in ranking[:k_results]:\n",
    "    model.load_state_dict(torch.load(f\"ckpts/val_modelv0_{m}.pth\"))\n",
    "    with torch.no_grad():\n",
    "        labels = []\n",
    "        for i, (user_embed, label) in enumerate(tqdm(dataloader)):\n",
    "            user_embed = user_embed.cuda()\n",
    "            label = label.cuda()\n",
    "            pred = model(user_embed)\n",
    "            preds[i*32:(i+1)*32] = pred.cpu().numpy()\n",
    "            \n",
    "            ### transform the label to discrete numbers\n",
    "            for l in label:\n",
    "                labels.append(list(np.where(l.cpu()==1)[0]))\n",
    "        \n",
    "preds = torch.sigmoid(torch.tensor(preds))\n",
    "preds = preds.cpu().numpy()\n",
    "\n",
    "pred_labels = np.argsort(-preds, axis=1)[:, :50]\n",
    "print(mapk(labels, pred_labels, 50))"
   ]
  },
  {
   "cell_type": "code",
   "execution_count": 8,
   "metadata": {},
   "outputs": [],
   "source": [
    "os.makedirs(\"results\", exist_ok=True)\n",
    "with open(f\"results/{prefix}_results.csv\", \"w\") as f:\n",
    "    f.write(f\"user_id,subgroup\\n\")\n",
    "    for i, pred in enumerate(pred_labels):\n",
    "        f.write(f\"{users[i]['id']},\")\n",
    "        for p in pred:\n",
    "            f.write(f\"{p} \")\n",
    "        f.write(\"\\n\")"
   ]
  }
 ],
 "metadata": {
  "kernelspec": {
   "display_name": "adl",
   "language": "python",
   "name": "python3"
  },
  "language_info": {
   "codemirror_mode": {
    "name": "ipython",
    "version": 3
   },
   "file_extension": ".py",
   "mimetype": "text/x-python",
   "name": "python",
   "nbconvert_exporter": "python",
   "pygments_lexer": "ipython3",
   "version": "3.8.15"
  },
  "orig_nbformat": 4,
  "vscode": {
   "interpreter": {
    "hash": "825ef558ec91ccb369c5ade66cb9ed2dc49eb7a1baf3f301fee22ad84418e33e"
   }
  }
 },
 "nbformat": 4,
 "nbformat_minor": 2
}
