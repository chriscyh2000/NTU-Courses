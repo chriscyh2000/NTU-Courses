{
 "cells": [
  {
   "cell_type": "code",
   "execution_count": 10,
   "metadata": {},
   "outputs": [],
   "source": [
    "import torch\n",
    "import numpy as np\n",
    "from torch import nn\n",
    "from torch.utils.data import DataLoader, Dataset, Subset\n",
    "import transformers\n",
    "import json, pickle\n",
    "from models import *\n",
    "from tqdm import tqdm\n",
    "from utils import mapk\n",
    "import os"
   ]
  },
  {
   "cell_type": "code",
   "execution_count": 11,
   "metadata": {},
   "outputs": [],
   "source": [
    "prefix = \"test_unseen\"\n",
    "user_embed_path = f\"processed_datas/{prefix}_embeddings.pkl\"\n",
    "user_path = f\"processed_datas/{prefix}.json\"\n",
    "course_embed_path = \"processed_datas/train_courses_embeddings.pkl\"\n",
    "\n",
    "with open(user_path, \"r\") as f:\n",
    "    users = json.load(f)\n",
    "\n",
    "with open(user_embed_path, \"rb\") as f:\n",
    "    user_embeds = pickle.load(f)"
   ]
  },
  {
   "cell_type": "code",
   "execution_count": 12,
   "metadata": {},
   "outputs": [],
   "source": [
    "class UserCourseDataset(Dataset):\n",
    "    def __init__(self, users, user_embeds, total_courses=732):\n",
    "        self.users = users\n",
    "        self.user_embeds = [torch.from_numpy(user_embed) for user_embed in user_embeds]\n",
    "        self.total_courses = total_courses\n",
    "\n",
    "    def __len__(self):\n",
    "        return len(self.users)\n",
    "\n",
    "    def __getitem__(self, idx):\n",
    "        labels = torch.zeros(self.total_courses)\n",
    "        labels = labels.scatter_(0, torch.tensor(self.users[idx][\"labels\"]), 1)\n",
    "        user_embed = self.user_embeds[idx]\n",
    "        return user_embed, labels\n",
    "\n",
    "def collate_fn(batch):\n",
    "    ### pad the user_embeds to the same length\n",
    "    # print(batch[0][0].shape)\n",
    "    max_len = max([item[0].shape[0] for item in batch])\n",
    "    embed_dim = batch[0][0].shape[1]\n",
    "    user_embeds = torch.stack([torch.cat([item[0], torch.zeros(max_len - item[0].shape[0], embed_dim)], dim=0) for item in batch])\n",
    "    labels = torch.stack([item[1] for item in batch])\n",
    "    return user_embeds, labels"
   ]
  },
  {
   "cell_type": "code",
   "execution_count": 13,
   "metadata": {},
   "outputs": [],
   "source": [
    "dataset = UserCourseDataset(users, user_embeds)"
   ]
  },
  {
   "cell_type": "code",
   "execution_count": 14,
   "metadata": {},
   "outputs": [
    {
     "data": {
      "text/plain": [
       "<All keys matched successfully>"
      ]
     },
     "execution_count": 14,
     "metadata": {},
     "output_type": "execute_result"
    }
   ],
   "source": [
    "dataloader = DataLoader(dataset, batch_size=32, shuffle=False, collate_fn=collate_fn)\n",
    "model = ValModelv0(nhead=8).cuda()\n",
    "model.load_state_dict(torch.load(\"val_modelv0.pth\"))"
   ]
  },
  {
   "cell_type": "code",
   "execution_count": 15,
   "metadata": {},
   "outputs": [
    {
     "name": "stderr",
     "output_type": "stream",
     "text": [
      "100%|██████████| 347/347 [00:05<00:00, 57.91it/s]\n"
     ]
    },
    {
     "name": "stdout",
     "output_type": "stream",
     "text": [
      "0.0\n"
     ]
    }
   ],
   "source": [
    "model.eval()\n",
    "with torch.no_grad():\n",
    "    preds = []\n",
    "    labels = []\n",
    "    for user_embed, label in tqdm(dataloader):\n",
    "        user_embed = user_embed.cuda()\n",
    "        label = label.cuda()\n",
    "        pred = model(user_embed)\n",
    "        preds.append(pred)\n",
    "        ### transform the label to discrete numbers\n",
    "        for l in label:\n",
    "            labels.append(list(np.where(l.cpu()==1)[0]))\n",
    "    \n",
    "    preds = torch.sigmoid(torch.cat(preds, dim=0))\n",
    "    preds = preds.cpu().numpy()\n",
    "\n",
    "pred_labels = np.argsort(-preds, axis=1)[:, :50]\n",
    "print(mapk(labels, pred_labels, 50))"
   ]
  },
  {
   "cell_type": "code",
   "execution_count": 16,
   "metadata": {},
   "outputs": [
    {
     "name": "stdout",
     "output_type": "stream",
     "text": [
      "0.0\n"
     ]
    }
   ],
   "source": [
    "from importlib import reload\n",
    "import utils\n",
    "reload(utils)\n",
    "from utils import knn\n",
    "# mutual_discard = [0, 1, 2, 3, 4, 22, 677, 41, 681, 689, 439, 697, 699, 62, 705, 708, 712, 713, 714, 715, 716, 717, 718, 719, 720, 721, 722, 723, 724, 725, 726, 727, 728, 729, 730, 731]\n",
    "mutual_discard = [0, 1, 2, 3]\n",
    "feats = pickle.load(open(\"processed_datas/compressed_courses_embeddings.pkl\", \"rb\"))\n",
    "feats = np.concatenate([np.zeros((4, 512)), feats], axis=0)\n",
    "new_preds = knn(preds, feats, 30, mutual_discard, 60)\n",
    "pred_labels = np.argsort(-new_preds, axis=1)[:, :50]\n",
    "print(mapk(labels, pred_labels, 50))"
   ]
  },
  {
   "cell_type": "code",
   "execution_count": 17,
   "metadata": {},
   "outputs": [],
   "source": [
    "course2int = {}\n",
    "with open(\"course_tokenizer.json\", 'r') as file:\n",
    "\tall_datas = json.load(file)\n",
    "\tall_tokens = all_datas[\"added_tokens\"] \n",
    "\tfor ctoken in all_tokens:\n",
    "\t\tcourse2int[ctoken[\"content\"]] = ctoken[\"id\"]\n",
    "\n",
    "int2course = {v: k for k, v in course2int.items()}"
   ]
  },
  {
   "cell_type": "code",
   "execution_count": 18,
   "metadata": {},
   "outputs": [],
   "source": [
    "os.makedirs(\"results\", exist_ok=True)\n",
    "with open(f\"results/{prefix}_results.csv\", \"w\") as f:\n",
    "    f.write(f\"user_id,course_id\\n\")\n",
    "    for i, pred in enumerate(pred_labels):\n",
    "        f.write(f\"{users[i]['uid']},\")\n",
    "        for p in pred:\n",
    "            f.write(f\"{int2course[p]} \")\n",
    "        f.write(\"\\n\")"
   ]
  }
 ],
 "metadata": {
  "kernelspec": {
   "display_name": "adl",
   "language": "python",
   "name": "python3"
  },
  "language_info": {
   "codemirror_mode": {
    "name": "ipython",
    "version": 3
   },
   "file_extension": ".py",
   "mimetype": "text/x-python",
   "name": "python",
   "nbconvert_exporter": "python",
   "pygments_lexer": "ipython3",
   "version": "3.8.15"
  },
  "orig_nbformat": 4,
  "vscode": {
   "interpreter": {
    "hash": "825ef558ec91ccb369c5ade66cb9ed2dc49eb7a1baf3f301fee22ad84418e33e"
   }
  }
 },
 "nbformat": 4,
 "nbformat_minor": 2
}
