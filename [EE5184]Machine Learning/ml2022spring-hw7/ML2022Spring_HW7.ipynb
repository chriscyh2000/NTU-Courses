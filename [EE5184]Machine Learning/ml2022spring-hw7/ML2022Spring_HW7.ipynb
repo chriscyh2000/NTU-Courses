{
  "nbformat": 4,
  "nbformat_minor": 0,
  "metadata": {
    "accelerator": "GPU",
    "colab": {
      "name": "ML2022Spring - HW7.ipynb",
      "provenance": [],
      "collapsed_sections": [],
      "private_outputs": true,
      "machine_shape": "hm",
      "background_execution": "on"
    },
    "kernelspec": {
      "display_name": "Python 3",
      "name": "python3"
    }
  },
  "cells": [
    {
      "cell_type": "markdown",
      "metadata": {
        "id": "xvSGDbExff_I"
      },
      "source": [
        "# **Homework 7 - Bert (Question Answering)**\n",
        "\n",
        "If you have any questions, feel free to email us at mlta-2022-spring@googlegroups.com\n",
        "\n",
        "\n",
        "\n",
        "Slide:    [Link](https://docs.google.com/presentation/d/1H5ZONrb2LMOCixLY7D5_5-7LkIaXO6AGEaV2mRdTOMY/edit?usp=sharing)　Kaggle: [Link](https://www.kaggle.com/c/ml2022spring-hw7)　Data: [Link](https://drive.google.com/uc?id=1AVgZvy3VFeg0fX-6WQJMHPVrx3A-M1kb)\n",
        "\n",
        "\n"
      ]
    },
    {
      "cell_type": "markdown",
      "metadata": {
        "id": "WGOr_eS3wJJf"
      },
      "source": [
        "## Task description\n",
        "- Chinese Extractive Question Answering\n",
        "  - Input: Paragraph + Question\n",
        "  - Output: Answer\n",
        "\n",
        "- Objective: Learn how to fine tune a pretrained model on downstream task using transformers\n",
        "\n",
        "- Todo\n",
        "    - Fine tune a pretrained chinese BERT model\n",
        "    - Change hyperparameters (e.g. doc_stride)\n",
        "    - Apply linear learning rate decay\n",
        "    - Try other pretrained models\n",
        "    - Improve preprocessing\n",
        "    - Improve postprocessing\n",
        "- Training tips\n",
        "    - Automatic mixed precision\n",
        "    - Gradient accumulation\n",
        "    - Ensemble\n",
        "\n",
        "- Estimated training time (tesla t4 with automatic mixed precision enabled)\n",
        "    - Simple: 8mins\n",
        "    - Medium: 8mins\n",
        "    - Strong: 25mins\n",
        "    - Boss: 2.5hrs\n",
        "  "
      ]
    },
    {
      "cell_type": "code",
      "source": [
        "from google.colab import drive\n",
        "drive.mount('/content/gdrive')"
      ],
      "metadata": {
        "id": "IjvooPwisX4I"
      },
      "execution_count": null,
      "outputs": []
    },
    {
      "cell_type": "code",
      "source": [
        "import torch\n",
        "GPU_name = torch.cuda.get_device_name()\n",
        "print(\"Your GPU is {}!\".format(GPU_name))"
      ],
      "metadata": {
        "id": "k2Kz5-d4q-yl"
      },
      "execution_count": null,
      "outputs": []
    },
    {
      "cell_type": "markdown",
      "metadata": {
        "id": "TJ1fSAJE2oaC"
      },
      "source": [
        "## Download Dataset"
      ]
    },
    {
      "cell_type": "code",
      "metadata": {
        "id": "YPrc4Eie9Yo5"
      },
      "source": [
        "# Download link 1\n",
        "# !gdown --id '1AVgZvy3VFeg0fX-6WQJMHPVrx3A-M1kb' --output hw7_data.zip\n",
        "\n",
        "# Download Link 2 (if the above link fails) \n",
        "# !gdown --id '1qwjbRjq481lHsnTrrF4OjKQnxzgoLEFR' --output hw7_data.zip\n",
        "\n",
        "# Download Link 3 (if the above link fails) \n",
        "!gdown --id '1QXuWjNRZH6DscSd6QcRER0cnxmpZvijn' --output hw7_data.zip\n",
        "\n",
        "!unzip -o hw7_data.zip\n",
        "\n",
        "# For this HW, K80 < P4 < T4 < P100 <= T4(fp16) < V100\n",
        "!nvidia-smi"
      ],
      "execution_count": null,
      "outputs": []
    },
    {
      "cell_type": "markdown",
      "metadata": {
        "id": "TevOvhC03m0h"
      },
      "source": [
        "## Install transformers\n",
        "\n",
        "Documentation for the toolkit:　https://huggingface.co/transformers/"
      ]
    },
    {
      "cell_type": "code",
      "metadata": {
        "id": "tbxWFX_jpDom"
      },
      "source": [
        "# You are allowed to change version of transformers or use other toolkits\n",
        "!pip install transformers==4.5.0"
      ],
      "execution_count": null,
      "outputs": []
    },
    {
      "cell_type": "markdown",
      "metadata": {
        "id": "8dKM4yCh4LI_"
      },
      "source": [
        "## Import Packages"
      ]
    },
    {
      "cell_type": "code",
      "metadata": {
        "id": "WOTHHtWJoahe"
      },
      "source": [
        "import json\n",
        "import numpy as np\n",
        "import random\n",
        "import torch\n",
        "from torch.utils.data import DataLoader, Dataset \n",
        "from transformers import AdamW, BertForQuestionAnswering, BertTokenizerFast\n",
        "from transformers import AutoTokenizer, AutoModelForMaskedLM\n",
        "\n",
        "from tqdm.auto import tqdm\n",
        "\n",
        "device = \"cuda\" if torch.cuda.is_available() else \"cpu\"\n",
        "\n",
        "# Fix random seed for reproducibility\n",
        "def same_seeds(seed):\n",
        "\t  torch.manual_seed(seed)\n",
        "\t  if torch.cuda.is_available():\n",
        "\t\t    torch.cuda.manual_seed(seed)\n",
        "\t\t    torch.cuda.manual_seed_all(seed)\n",
        "\t  np.random.seed(seed)\n",
        "\t  random.seed(seed)\n",
        "\t  torch.backends.cudnn.benchmark = False\n",
        "\t  torch.backends.cudnn.deterministic = True\n",
        "same_seeds(0)"
      ],
      "execution_count": null,
      "outputs": []
    },
    {
      "cell_type": "code",
      "metadata": {
        "id": "7pBtSZP1SKQO"
      },
      "source": [
        "# Change \"fp16_training\" to True to support automatic mixed precision training (fp16)\t\n",
        "fp16_training = True\n",
        "\n",
        "if fp16_training:\n",
        "    !pip install accelerate==0.2.0\n",
        "    from accelerate import Accelerator\n",
        "    accelerator = Accelerator(fp16=True)\n",
        "    device = accelerator.device\n",
        "\n",
        "# Documentation for the toolkit:  https://huggingface.co/docs/accelerate/"
      ],
      "execution_count": null,
      "outputs": []
    },
    {
      "cell_type": "markdown",
      "metadata": {
        "id": "2YgXHuVLp_6j"
      },
      "source": [
        "## Load Model and Tokenizer\n",
        "\n",
        "\n",
        "\n",
        "\n",
        " "
      ]
    },
    {
      "cell_type": "code",
      "metadata": {
        "id": "xyBCYGjAp3ym"
      },
      "source": [
        "from transformers import AutoTokenizer, AutoModelForQuestionAnswering\n",
        "tokenizer = AutoTokenizer.from_pretrained(\"luhua/chinese_pretrain_mrc_macbert_large\") \n",
        "model = AutoModelForQuestionAnswering.from_pretrained(\"luhua/chinese_pretrain_mrc_macbert_large\")\n",
        "model.to(device)\n",
        "\n",
        "# You can safely ignore the warning message (it pops up because new prediction heads for QA are initialized randomly)"
      ],
      "execution_count": null,
      "outputs": []
    },
    {
      "cell_type": "markdown",
      "metadata": {
        "id": "3Td-GTmk5OW4"
      },
      "source": [
        "## Read Data\n",
        "\n",
        "- Training set: 31690 QA pairs\n",
        "- Dev set: 4131  QA pairs\n",
        "- Test set: 4957  QA pairs\n",
        "\n",
        "- {train/dev/test}_questions:\t\n",
        "  - List of dicts with the following keys:\n",
        "   - id (int)\n",
        "   - paragraph_id (int)\n",
        "   - question_text (string)\n",
        "   - answer_text (string)\n",
        "   - answer_start (int)\n",
        "   - answer_end (int)\n",
        "- {train/dev/test}_paragraphs: \n",
        "  - List of strings\n",
        "  - paragraph_ids in questions correspond to indexs in paragraphs\n",
        "  - A paragraph may be used by several questions "
      ]
    },
    {
      "cell_type": "code",
      "metadata": {
        "id": "NvX7hlepogvu"
      },
      "source": [
        "def read_data(file):\n",
        "    with open(file, 'r', encoding=\"utf-8\") as reader:\n",
        "        data = json.load(reader)\n",
        "    return data[\"questions\"], data[\"paragraphs\"]\n",
        "\n",
        "train_questions, train_paragraphs = read_data(\"hw7_train.json\")\n",
        "dev_questions, dev_paragraphs = read_data(\"hw7_dev.json\")\n",
        "test_questions, test_paragraphs = read_data(\"hw7_test.json\")"
      ],
      "execution_count": null,
      "outputs": []
    },
    {
      "cell_type": "markdown",
      "metadata": {
        "id": "Fm0rpTHq0e4N"
      },
      "source": [
        "## Tokenize Data"
      ]
    },
    {
      "cell_type": "code",
      "metadata": {
        "id": "rTZ6B70Hoxie"
      },
      "source": [
        "# Tokenize questions and paragraphs separately\n",
        "# 「add_special_tokens」 is set to False since special tokens will be added when tokenized questions and paragraphs are combined in datset __getitem__ \n",
        "\n",
        "train_questions_tokenized = tokenizer([train_question[\"question_text\"] for train_question in train_questions], add_special_tokens=False)\n",
        "dev_questions_tokenized = tokenizer([dev_question[\"question_text\"] for dev_question in dev_questions], add_special_tokens=False)\n",
        "test_questions_tokenized = tokenizer([test_question[\"question_text\"] for test_question in test_questions], add_special_tokens=False) \n",
        "\n",
        "train_paragraphs_tokenized = tokenizer(train_paragraphs, add_special_tokens=False)\n",
        "dev_paragraphs_tokenized = tokenizer(dev_paragraphs, add_special_tokens=False)\n",
        "test_paragraphs_tokenized = tokenizer(test_paragraphs, add_special_tokens=False)\n",
        "\n",
        "# You can safely ignore the warning message as tokenized sequences will be futher processed in datset __getitem__ before passing to model"
      ],
      "execution_count": null,
      "outputs": []
    },
    {
      "cell_type": "code",
      "source": [
        "print(train_paragraphs_tokenized[train_questions[0]['paragraph_id']].offsets[0][0])"
      ],
      "metadata": {
        "id": "wBN6WuUpBHYh"
      },
      "execution_count": null,
      "outputs": []
    },
    {
      "cell_type": "markdown",
      "metadata": {
        "id": "Ws8c8_4d5UCI"
      },
      "source": [
        "## Dataset and Dataloader"
      ]
    },
    {
      "cell_type": "code",
      "metadata": {
        "id": "Xjooag-Swnuh"
      },
      "source": [
        "import random\n",
        "doc_stride = 100\n",
        "max_question_len = 55\n",
        "class QA_Dataset(Dataset):\n",
        "    def __init__(self, split, questions, tokenized_questions, tokenized_paragraphs):\n",
        "        self.split = split\n",
        "        self.questions = questions\n",
        "        self.tokenized_questions = tokenized_questions\n",
        "        self.tokenized_paragraphs = tokenized_paragraphs\n",
        "        self.max_question_len = max_question_len\n",
        "        self.max_paragraph_len = 420\n",
        "        \n",
        "        ##### TODO: Change value of doc_stride #####\n",
        "        self.doc_stride = doc_stride\n",
        "\n",
        "        # Input sequence length = [CLS] + question + [SEP] + paragraph + [SEP]\n",
        "        self.max_seq_len = 1 + self.max_question_len + 1 + self.max_paragraph_len + 1\n",
        "\n",
        "    def __len__(self):\n",
        "        return len(self.questions)\n",
        "\n",
        "    def __getitem__(self, idx):\n",
        "        question = self.questions[idx]\n",
        "        tokenized_question = self.tokenized_questions[idx]\n",
        "        tokenized_paragraph = self.tokenized_paragraphs[question[\"paragraph_id\"]]\n",
        "\n",
        "        ##### TODO: Preprocessing #####\n",
        "        # Hint: How to prevent model from learning something it should not learn\n",
        "\n",
        "        if self.split == \"train\":\n",
        "            # Convert answer's start/end positions in paragraph_text to start/end positions in tokenized_paragraph  \n",
        "            answer_start_token = tokenized_paragraph.char_to_token(question[\"answer_start\"])\n",
        "            answer_end_token = tokenized_paragraph.char_to_token(question[\"answer_end\"])\n",
        "            # A single window is obtained by slicing the portion of paragraph containing the answer\n",
        "\n",
        "\n",
        "            mid = (answer_start_token + answer_end_token) // 2\n",
        "            # left_p = random.random()\n",
        "            # max_window = self.max_paragraph_len - (answer_end_token - answer_start_token)\n",
        "            # paragraph_start = max(0, min(mid - int(max_window * left_p) - (mid - answer_start_token), len(tokenized_paragraph) - self.max_paragraph_len))\n",
        "            # paragraph_end = paragraph_start + self.max_paragraph_len\n",
        "\n",
        "            paragraph_start = max(0, min(mid - random.randint(1, 3) * self.max_paragraph_len // 4, len(tokenized_paragraph) - self.max_paragraph_len))\n",
        "            paragraph_end = paragraph_start + self.max_paragraph_len\n",
        "\n",
        "\n",
        "            \n",
        "            # Slice question/paragraph and add special tokens (101: CLS, 102: SEP)\n",
        "            # we put `input_ids_question` and `input_ids_paragraph` into padding() so that we can concate them together and add [0](padding)\n",
        "            input_ids_question = [101] + tokenized_question.ids[:self.max_question_len] + [102] \n",
        "            input_ids_paragraph = tokenized_paragraph.ids[paragraph_start : paragraph_end] + [102]\t\t\n",
        "            \n",
        "            # Convert answer's start/end positions in tokenized_paragraph to start/end positions in the window  \n",
        "            answer_start_token += len(input_ids_question) - paragraph_start\n",
        "            answer_end_token += len(input_ids_question) - paragraph_start\n",
        "            \n",
        "            # Pad sequence and obtain inputs to model \n",
        "            input_ids, token_type_ids, attention_mask = self.padding(input_ids_question, input_ids_paragraph)\n",
        "            return torch.tensor(input_ids), torch.tensor(token_type_ids), torch.tensor(attention_mask), answer_start_token, answer_end_token\n",
        "\n",
        "        # Validation/Testing\n",
        "        else:\n",
        "            input_ids_list, token_type_ids_list, attention_mask_list = [], [], []\n",
        "            \n",
        "            # Paragraph is split into several windows, each with start positions separated by step \"doc_stride\"\n",
        "            for i in range(0, len(tokenized_paragraph), self.doc_stride):\n",
        "                \n",
        "                # Slice question/paragraph and add special tokens (101: CLS, 102: SEP)\n",
        "                input_ids_question = [101] + tokenized_question.ids[:self.max_question_len] + [102]\n",
        "                input_ids_paragraph = tokenized_paragraph.ids[i : i + self.max_paragraph_len] + [102]\n",
        "                \n",
        "                # Pad sequence and obtain inputs to model\n",
        "                input_ids, token_type_ids, attention_mask = self.padding(input_ids_question, input_ids_paragraph)\n",
        "                \n",
        "                input_ids_list.append(input_ids)\n",
        "                token_type_ids_list.append(token_type_ids)\n",
        "                attention_mask_list.append(attention_mask)\n",
        "            \n",
        "            return torch.tensor(input_ids_list), torch.tensor(token_type_ids_list), torch.tensor(attention_mask_list)\n",
        "\n",
        "    def padding(self, input_ids_question, input_ids_paragraph):\n",
        "        # Pad zeros if sequence length is shorter than max_seq_len\n",
        "        padding_len = self.max_seq_len - len(input_ids_question) - len(input_ids_paragraph)\n",
        "        # Indices of input sequence tokens in the vocabulary\n",
        "        input_ids = input_ids_question + input_ids_paragraph + [0] * padding_len\n",
        "        # Segment token indices to indicate first and second portions of the inputs. Indices are selected in [0, 1]\n",
        "        token_type_ids = [0] * len(input_ids_question) + [1] * len(input_ids_paragraph) + [0] * padding_len\n",
        "        # Mask to avoid performing attention on padding token indices. Mask values selected in [0, 1]\n",
        "        attention_mask = [0] + [1] * (len(input_ids_question) - 2) + [0] + [1] * (len(input_ids_paragraph) - 1) + [0] + [0] * padding_len\n",
        "        \n",
        "        return input_ids, token_type_ids, attention_mask\n",
        "\n",
        "train_set = QA_Dataset(\"train\", train_questions, train_questions_tokenized, train_paragraphs_tokenized)\n",
        "dev_set = QA_Dataset(\"dev\", dev_questions, dev_questions_tokenized, dev_paragraphs_tokenized)\n",
        "test_set = QA_Dataset(\"test\", test_questions, test_questions_tokenized, test_paragraphs_tokenized)\n",
        "\n",
        "train_batch_size = 4\n",
        "\n",
        "# Note: Do NOT change batch size of dev_loader / test_loader !\n",
        "# Although batch size=1, it is actually a batch consisting of several windows from the same QA pair\n",
        "train_loader = DataLoader(train_set, batch_size=train_batch_size, shuffle=True, pin_memory=True)\n",
        "dev_loader = DataLoader(dev_set, batch_size=1, shuffle=False, pin_memory=True)\n",
        "test_loader = DataLoader(test_set, batch_size=1, shuffle=False, pin_memory=True)"
      ],
      "execution_count": null,
      "outputs": []
    },
    {
      "cell_type": "markdown",
      "metadata": {
        "id": "5_H1kqhR8CdM"
      },
      "source": [
        "## Function for Evaluation"
      ]
    },
    {
      "cell_type": "code",
      "metadata": {
        "id": "SqeA3PLPxOHu"
      },
      "source": [
        "def evaluate(idx, data, output, test):\n",
        "    ##### TODO: Postprocessing #####\n",
        "    # There is a bug and room for improvement in postprocessing \n",
        "    # Hint: Open your prediction file to see what is wrong \n",
        "    \n",
        "    real_answer = ''\n",
        "    max_prob = float('-inf')\n",
        "    num_of_windows = data[0].shape[1]\n",
        "    start_index = 0\n",
        "    end_index = 0\n",
        "    for k in range(num_of_windows):\n",
        "        # Obtain answer by choosing the most probable start position / end position\n",
        "        start_prob, start_index = torch.max(output.start_logits[k], dim=0)\n",
        "        end_prob, end_index = torch.max(output.end_logits[k], dim=0)\n",
        "\n",
        "        if start_index > end_index:\n",
        "            continue\n",
        "\n",
        "        # Probability of answer is calculated as sum of start_prob and end_prob\n",
        "        prob = start_prob + end_prob\n",
        "        \n",
        "        # Replace answer if calculated probability is larger than previous windows\n",
        "        if prob > max_prob:\n",
        "            max_prob = prob\n",
        "            for i in range(start_index, end_index):\n",
        "                if data[0][0][k][i] == 102:\n",
        "                    start_index = i + 1\n",
        "                    break\n",
        "            if data[0][0][k][end_index] == 102:\n",
        "                end_index = end_index - 1\n",
        "            error = False\n",
        "            answer = \"\"\n",
        "            # Convert tokens to chars (e.g. [1920, 7032] --> \"大 金\")\n",
        "            if test == True:\n",
        "                for i in range(start_index, end_index + 1):\n",
        "                    n = i - (min(len(test_questions_tokenized[idx]), max_question_len) + 2) + k * doc_stride\n",
        "                    if n >= len(test_paragraphs_tokenized[test_questions[idx]['paragraph_id']].offsets):\n",
        "                        error = True\n",
        "                        break\n",
        "                    offsets = test_paragraphs_tokenized[test_questions[idx]['paragraph_id']].offsets[n]\n",
        "                    if \"「\" == test_paragraphs[test_questions[idx]['paragraph_id']][offsets[0]:offsets[1]]:\n",
        "                        check = True\n",
        "                        for j in range(i + 1, end_index + 1):\n",
        "                            tmp_n = j - (min(len(test_questions_tokenized[idx]), max_question_len) + 2) + k * doc_stride\n",
        "                            tmp_offsets = test_paragraphs_tokenized[test_questions[idx]['paragraph_id']].offsets[tmp_n]\n",
        "                            if \"」\" == test_paragraphs[test_questions[idx]['paragraph_id']][tmp_offsets[0]:tmp_offsets[1]]:\n",
        "                                check = False\n",
        "                                break\n",
        "                        if check == True:\n",
        "                            end_index = end_index + 1\n",
        "                        break\n",
        "                    if \"」\" == test_paragraphs[test_questions[idx]['paragraph_id']][offsets[0]:offsets[1]]:\n",
        "                        start_index = start_index - 1\n",
        "                        break\n",
        "                for i in range(start_index, end_index + 1):\n",
        "                    n = i - (min(len(test_questions_tokenized[idx]), max_question_len) + 2) + k * doc_stride\n",
        "                    if n >= len(test_paragraphs_tokenized[test_questions[idx]['paragraph_id']].offsets):\n",
        "                        error = True\n",
        "                        break\n",
        "                    offsets = test_paragraphs_tokenized[test_questions[idx]['paragraph_id']].offsets[n]\n",
        "                    if \"《\" == test_paragraphs[test_questions[idx]['paragraph_id']][offsets[0]:offsets[1]]:\n",
        "                        check = True\n",
        "                        for j in range(i + 1, end_index + 1):\n",
        "                            tmp_n = j - (min(len(test_questions_tokenized[idx]), max_question_len) + 2) + k * doc_stride\n",
        "                            tmp_offsets = test_paragraphs_tokenized[test_questions[idx]['paragraph_id']].offsets[tmp_n]\n",
        "                            if \"》\" == test_paragraphs[test_questions[idx]['paragraph_id']][tmp_offsets[0]:tmp_offsets[1]]:\n",
        "                                check = False\n",
        "                                break\n",
        "                        if check == True:\n",
        "                            end_index = end_index + 1\n",
        "                        break\n",
        "                    if \"》\" == test_paragraphs[test_questions[idx]['paragraph_id']][offsets[0]:offsets[1]]:\n",
        "                        start_index = start_index - 1\n",
        "                        break \n",
        "                for i in range(start_index, end_index + 1):\n",
        "                    n = i - (min(len(test_questions_tokenized[idx]), max_question_len) + 2) + k * doc_stride\n",
        "                    offsets = test_paragraphs_tokenized[test_questions[idx]['paragraph_id']].offsets[n]\n",
        "                    answer += test_paragraphs[test_questions[idx]['paragraph_id']][offsets[0]:offsets[1]]\n",
        "                        # print(test_paragraphs[test_questions[idx]['paragraph_id']][offsets[0]:offsets[1]])\n",
        "                        # print(tokenizer.decode(data[0][0][k][i]))\n",
        "            else:\n",
        "                for i in range(start_index, end_index + 1):\n",
        "                    n = i - (min(len(dev_questions_tokenized[idx]), max_question_len) + 2) + k * doc_stride\n",
        "                    if n >= len(dev_paragraphs_tokenized[dev_questions[idx]['paragraph_id']].offsets):\n",
        "                        error = True\n",
        "                        break\n",
        "                    offsets = dev_paragraphs_tokenized[dev_questions[idx]['paragraph_id']].offsets[n]\n",
        "                    if \"「\" == dev_paragraphs[dev_questions[idx]['paragraph_id']][offsets[0]:offsets[1]]:\n",
        "                        check = True\n",
        "                        for j in range(i + 1, end_index + 1):\n",
        "                            tmp_n = j - (len(dev_questions_tokenized[idx]) + 2) + k * doc_stride\n",
        "                            tmp_offsets = dev_paragraphs_tokenized[dev_questions[idx]['paragraph_id']].offsets[tmp_n]\n",
        "                            if \"」\" == dev_paragraphs[dev_questions[idx]['paragraph_id']][tmp_offsets[0]:tmp_offsets[1]]:\n",
        "                                check = False\n",
        "                                break\n",
        "                        if check == True:\n",
        "                            end_index = end_index + 1\n",
        "                        break\n",
        "                    if \"」\" == dev_paragraphs[dev_questions[idx]['paragraph_id']][offsets[0]:offsets[1]]:\n",
        "                        start_index = start_index - 1\n",
        "                        break\n",
        "                for i in range(start_index, end_index + 1):\n",
        "                    n = i - (min(len(dev_questions_tokenized[idx]), max_question_len) + 2) + k * doc_stride\n",
        "                    if n >= len(dev_paragraphs_tokenized[dev_questions[idx]['paragraph_id']].offsets):\n",
        "                        error = True\n",
        "                        break\n",
        "                    offsets = dev_paragraphs_tokenized[dev_questions[idx]['paragraph_id']].offsets[n]\n",
        "                    answer += dev_paragraphs[dev_questions[idx]['paragraph_id']][offsets[0]:offsets[1]]\n",
        "                        # print(test_paragraphs[test_questions[idx]['paragraph_id']][offsets[0]:offsets[1]])\n",
        "                        # print(tokenizer.decode(data[0][0][k][i]))\n",
        "            if error == False:\n",
        "                real_answer = answer\n",
        "    real_answer = real_answer.replace(' ','')\n",
        "    \n",
        "    print(real_answer)\n",
        "    # Remove spaces in answer (e.g. \"大 金\" --> \"大金\")\n",
        "    return real_answer"
      ],
      "execution_count": null,
      "outputs": []
    },
    {
      "cell_type": "markdown",
      "metadata": {
        "id": "rzHQit6eMnKG"
      },
      "source": [
        "## Training"
      ]
    },
    {
      "cell_type": "code",
      "metadata": {
        "id": "3Q-B6ka7xoCM"
      },
      "source": [
        "import transformers\n",
        "import math\n",
        "num_epoch = 1\n",
        "accumulate_step = 8\n",
        "validation = True\n",
        "logging_step = 100\n",
        "learning_rate = 87e-6\n",
        "model_save_dir = \"./gdrive/MyDrive/ML2022/ML2022_hw7/model2\"\n",
        "total_step = math.ceil(train_set.__len__() / train_batch_size) * num_epoch\n",
        "\n",
        "optimizer = AdamW(model.parameters(), lr=learning_rate, weight_decay=0.3)\n",
        "scheduler = transformers.get_linear_schedule_with_warmup(optimizer, num_warmup_steps=total_step//10, num_training_steps=total_step)\n",
        "\n",
        "if fp16_training:\n",
        "    model, optimizer, train_loader = accelerator.prepare(model, optimizer, train_loader) \n",
        "\n",
        "model.train()\n",
        "\n",
        "print(\"Start Training ...\")\n",
        "step = 1\n",
        "best_acc = 0\n",
        "for epoch in range(num_epoch):\n",
        "    train_loss = train_acc = 0\n",
        "    \n",
        "    for data in tqdm(train_loader):\t\n",
        "        # Load all data into GPU\n",
        "        data = [i.to(device) for i in data]\n",
        "        \n",
        "        # Model inputs: input_ids, token_type_ids, attention_mask, start_positions, end_positions (Note: only \"input_ids\" is mandatory)\n",
        "        # Model outputs: start_logits, end_logits, loss (return when start_positions/end_positions are provided)  \n",
        "        output = model(input_ids=data[0], token_type_ids=data[1], attention_mask=data[2], start_positions=data[3], end_positions=data[4])\n",
        "\n",
        "        # Choose the most probable start position / end position\n",
        "        start_index = torch.argmax(output.start_logits, dim=1)\n",
        "        end_index = torch.argmax(output.end_logits, dim=1)\n",
        "        \n",
        "        # Prediction is correct only if both start_index and end_index are correct\n",
        "        output.loss = output.loss / accumulate_step\n",
        "        train_acc += ((start_index == data[3]) & (end_index == data[4])).float().mean()\n",
        "        train_loss += output.loss\n",
        "        \n",
        "        if fp16_training:\n",
        "            accelerator.backward(output.loss)\n",
        "        else:\n",
        "            output.loss.backward()\n",
        "        \n",
        "        if step % accumulate_step == 0:\n",
        "            optimizer.step()\n",
        "            scheduler.step()\n",
        "            optimizer.zero_grad()\n",
        "        step += 1\n",
        "        \n",
        "        # Print training loss and accuracy over past logging step\n",
        "        if step % logging_step == 0:\n",
        "            print(f\"Epoch {epoch + 1} | Step {step} | loss = {train_loss.item() / logging_step:.3f}, acc = {train_acc / logging_step:.3f}\")\n",
        "            train_loss = train_acc = 0\n",
        "\n",
        "    if validation:\n",
        "        print(\"Evaluating Dev Set ...\")\n",
        "        model.eval()\n",
        "        with torch.no_grad():\n",
        "            dev_acc = 0\n",
        "            for i, data in enumerate(tqdm(dev_loader)):\n",
        "                output = model(input_ids=data[0].squeeze(dim=0).to(device), token_type_ids=data[1].squeeze(dim=0).to(device),\n",
        "                       attention_mask=data[2].squeeze(dim=0).to(device))\n",
        "                # prediction is correct only if answer text exactly matches\n",
        "                dev_acc += evaluate(i, data, output, test=False) == dev_questions[i][\"answer_text\"]\n",
        "            print(f\"Validation | Epoch {epoch + 1} | acc = {dev_acc / len(dev_loader):.3f}\")\n",
        "            if(dev_acc / len(dev_loader) > best_acc):\n",
        "                best_acc = dev_acc / len(dev_loader)\n",
        "                print(f\"Saving Model! Best acc: {best_acc:.3f}\")\n",
        "                model.save_pretrained(model_save_dir)\n",
        "        model.train()\n",
        "\n",
        "# Save a model and its configuration file to the directory 「saved_model」 \n",
        "# i.e. there are two files under the direcory 「saved_model」: 「pytorch_model.bin」 and 「config.json」\n",
        "# Saved model can be re-loaded using 「model = BertForQuestionAnswering.from_pretrained(\"saved_model\")」"
      ],
      "execution_count": null,
      "outputs": []
    },
    {
      "cell_type": "code",
      "source": [
        "# model_save_dir = \"./gdrive/MyDrive/ML2022/ML2022_hw7/model3\"\n",
        "# model.save_pretrained(model_save_dir)\n",
        "# model_save_dir = \"./gdrive/MyDrive/ML2022/ML2022_hw7/model4\"\n",
        "# model.save_pretrained(model_save_dir)"
      ],
      "metadata": {
        "id": "yfm5-iXgQMmh"
      },
      "execution_count": null,
      "outputs": []
    },
    {
      "cell_type": "code",
      "source": [
        "raise"
      ],
      "metadata": {
        "id": "k44RbquPDqd2"
      },
      "execution_count": null,
      "outputs": []
    },
    {
      "cell_type": "markdown",
      "metadata": {
        "id": "kMmdLOKBMsdE"
      },
      "source": [
        "## Testing"
      ]
    },
    {
      "cell_type": "code",
      "source": [
        "class ens_out():\n",
        "    def __init__(self, num_of_windows, output1, output2, output3, output4):\n",
        "        self.start_logits = []\n",
        "        self.end_logits = []\n",
        "        for k in range(0, num_of_windows): \n",
        "            self.start_logits.append(output1.start_logits[k] * 2 / 5 + output2.start_logits[k] * 0 / 10 + output3.start_logits[k] * 1 / 5 + output4.start_logits[k] * 2 / 5)\n",
        "            self.end_logits.append(output1.end_logits[k] * 2 / 5 + output2.end_logits[k] * 0 / 10 + output3.end_logits[k] * 1 / 5 + output4.end_logits[k] * 2 / 5)"
      ],
      "metadata": {
        "id": "q7Ge0qb6EBxc"
      },
      "execution_count": null,
      "outputs": []
    },
    {
      "cell_type": "code",
      "source": [
        "model_save_dir = \"./gdrive/MyDrive/ML2022/ML2022_hw7/model\"\n",
        "model1 = BertForQuestionAnswering.from_pretrained(model_save_dir + \"1\").to(device)\n",
        "model2 = BertForQuestionAnswering.from_pretrained(model_save_dir + \"2\").to(device)\n",
        "model3 = BertForQuestionAnswering.from_pretrained(model_save_dir + \"3\").to(device)\n",
        "model4 = BertForQuestionAnswering.from_pretrained(model_save_dir + \"4\").to(device)\n",
        "model1.eval()\n",
        "model2.eval()\n",
        "model3.eval()\n",
        "model4.eval()"
      ],
      "metadata": {
        "id": "MyBRQeqUIEZ6"
      },
      "execution_count": null,
      "outputs": []
    },
    {
      "cell_type": "code",
      "source": [
        "result = []\n",
        "with torch.no_grad():\n",
        "    for i, data in enumerate(tqdm(test_loader)):\n",
        "        output1 = model1(input_ids=data[0].squeeze(dim=0).to(device), token_type_ids=data[1].squeeze(dim=0).to(device),\n",
        "                       attention_mask=data[2].squeeze(dim=0).to(device))\n",
        "        output2 = model2(input_ids=data[0].squeeze(dim=0).to(device), token_type_ids=data[1].squeeze(dim=0).to(device),\n",
        "                       attention_mask=data[2].squeeze(dim=0).to(device))\n",
        "        output3 = model3(input_ids=data[0].squeeze(dim=0).to(device), token_type_ids=data[1].squeeze(dim=0).to(device),\n",
        "                       attention_mask=data[2].squeeze(dim=0).to(device))\n",
        "        output4 = model4(input_ids=data[0].squeeze(dim=0).to(device), token_type_ids=data[1].squeeze(dim=0).to(device),\n",
        "                       attention_mask=data[2].squeeze(dim=0).to(device))\n",
        "        ens_output = ens_out(data[0].shape[1], output1, output2, output3, output4)\n",
        "        result.append(evaluate(i, data, ens_output, test=True))\n",
        "        \n",
        "result_file = \"./gdrive/MyDrive/ML2022/ML2022_hw7/result.csv\"\n",
        "with open(result_file, 'w') as f:\t\n",
        "\t  f.write(\"ID,Answer\\n\")\n",
        "\t  for i, test_question in enumerate(test_questions):\n",
        "        # Replace commas in answers with empty strings (since csv is separated by comma)\n",
        "        # Answers in kaggle are processed in the same way\n",
        "\t\t    f.write(f\"{test_question['id']},{result[i].replace(',','')}\\n\")\n",
        "\n",
        "print(f\"Completed! Result is in {result_file}\")"
      ],
      "metadata": {
        "id": "lQwDvahwXJTT"
      },
      "execution_count": null,
      "outputs": []
    },
    {
      "cell_type": "code",
      "metadata": {
        "id": "U5scNKC9xz0C"
      },
      "source": [
        "print(\"Evaluating Test Set ...\")\n",
        "\n",
        "result = []\n",
        "model = BertForQuestionAnswering.from_pretrained(model_save_dir)\n",
        "model.to(device)\n",
        "model.eval()\n",
        "with torch.no_grad():\n",
        "    for i, data in enumerate(tqdm(test_loader)):\n",
        "        output = model(input_ids=data[0].squeeze(dim=0).to(device), token_type_ids=data[1].squeeze(dim=0).to(device),\n",
        "                       attention_mask=data[2].squeeze(dim=0).to(device))\n",
        "        result.append(evaluate(i, data, output, test=True))\n",
        "\n",
        "result_file = \"./gdrive/MyDrive/ML2022/ML2022_hw7/result.csv\"\n",
        "with open(result_file, 'w') as f:\t\n",
        "\t  f.write(\"ID,Answer\\n\")\n",
        "\t  for i, test_question in enumerate(test_questions):\n",
        "        # Replace commas in answers with empty strings (since csv is separated by comma)\n",
        "        # Answers in kaggle are processed in the same way\n",
        "\t\t    f.write(f\"{test_question['id']},{result[i].replace(',','')}\\n\")\n",
        "\n",
        "print(f\"Completed! Result is in {result_file}\")"
      ],
      "execution_count": null,
      "outputs": []
    }
  ]
}