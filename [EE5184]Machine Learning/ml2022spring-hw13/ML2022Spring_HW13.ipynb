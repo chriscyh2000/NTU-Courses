{
  "metadata": {
    "kernelspec": {
      "language": "python",
      "display_name": "Python 3",
      "name": "python3"
    },
    "language_info": {
      "name": "python",
      "version": "3.7.12",
      "mimetype": "text/x-python",
      "codemirror_mode": {
        "name": "ipython",
        "version": 3
      },
      "pygments_lexer": "ipython3",
      "nbconvert_exporter": "python",
      "file_extension": ".py"
    },
    "colab": {
      "name": "ML2022Spring_HW13.ipynb",
      "provenance": [],
      "private_outputs": true,
      "collapsed_sections": [],
      "machine_shape": "hm",
      "background_execution": "on"
    },
    "accelerator": "GPU",
    "gpuClass": "standard"
  },
  "nbformat_minor": 0,
  "nbformat": 4,
  "cells": [
    {
      "cell_type": "markdown",
      "source": [
        "# Homework 13 - Network Compression\n",
        "\n",
        "Author: Liang-Hsuan Tseng (b07502072@ntu.edu.tw), modified from ML2021-HW13\n",
        "\n",
        "If you have any questions, feel free to ask: ntu-ml-2022spring-ta@googlegroups.com\n",
        "\n",
        "[**Link to HW13 Slides**](https://docs.google.com/presentation/d/1nCT9XrInF21B4qQAWuODy5sonKDnpGhjtcAwqa75mVU/edit#slide=id.p)"
      ],
      "metadata": {
        "id": "k_UqVZtpSz5Z"
      }
    },
    {
      "cell_type": "code",
      "source": [
        "import torch\n",
        "GPU_name = torch.cuda.get_device_name()\n",
        "print(\"Your GPU is {}!\".format(GPU_name))"
      ],
      "metadata": {
        "id": "ymZDYoLGTlOG"
      },
      "execution_count": null,
      "outputs": []
    },
    {
      "cell_type": "code",
      "source": [
        "from google.colab import drive\n",
        "drive.mount('/content/gdrive')"
      ],
      "metadata": {
        "id": "zgxWqRCmTlmK"
      },
      "execution_count": null,
      "outputs": []
    },
    {
      "cell_type": "markdown",
      "source": [
        "## Outline\n",
        "\n",
        "* [Packages](#Packages) - intall some required packages.\n",
        "* [Dataset](#Dataset) - something you need to know about the dataset.\n",
        "* [Configs](#Configs) - the configs of the experiments, you can change some hyperparameters here.\n",
        "* [Architecture_Design](#Architecture_Design) - depthwise and pointwise convolution examples and some useful links.\n",
        "* [Knowledge_Distillation](#Knowledge_Distillation) - KL divergence loss for knowledge distillation and some useful links.\n",
        "* [Training](#Training) - training loop implementation modified from HW3.\n",
        "* [Inference](#Inference) - create submission.csv by using the student_best.ckpt from the previous experiment.\n",
        "\n"
      ],
      "metadata": {
        "id": "kYKQ2_nzSz5c"
      }
    },
    {
      "cell_type": "markdown",
      "source": [
        "### Packages\n",
        "First, we need to import some useful packages. If the torchsummary package are not intalled, please install it via `pip install torchsummary`"
      ],
      "metadata": {
        "id": "-nyWIJEoSz5d"
      }
    },
    {
      "cell_type": "code",
      "source": [
        "# Import some useful packages for this homework\n",
        "import numpy as np\n",
        "import pandas as pd\n",
        "import torch\n",
        "import os\n",
        "import torch.nn as nn\n",
        "import torch.nn.functional as F\n",
        "import torchvision.transforms as transforms\n",
        "from PIL import Image\n",
        "from torch.utils.data import ConcatDataset, DataLoader, Subset, Dataset # \"ConcatDataset\" and \"Subset\" are possibly useful\n",
        "from torchvision.datasets import DatasetFolder, VisionDataset\n",
        "from torchsummary import summary\n",
        "from tqdm import tqdm\n",
        "import random\n",
        "\n",
        "# !nvidia-smi # list your current GPU"
      ],
      "metadata": {
        "execution": {
          "iopub.status.busy": "2022-05-24T10:23:27.917792Z",
          "iopub.execute_input": "2022-05-24T10:23:27.918416Z",
          "iopub.status.idle": "2022-05-24T10:23:27.923861Z",
          "shell.execute_reply.started": "2022-05-24T10:23:27.918372Z",
          "shell.execute_reply": "2022-05-24T10:23:27.923187Z"
        },
        "trusted": true,
        "id": "vj5hoKkNSz5e"
      },
      "execution_count": null,
      "outputs": []
    },
    {
      "cell_type": "markdown",
      "source": [
        "### Configs\n",
        "In this part, you can specify some variables and hyperparameters as your configs."
      ],
      "metadata": {
        "id": "LLkfmF7WSz5f"
      }
    },
    {
      "cell_type": "code",
      "source": [
        "cfg = {\n",
        "    'dataset_root': './food11-hw13',\n",
        "    'save_dir': './outputs',\n",
        "    'batch_size': 32,\n",
        "    'lr': 3e-4,\n",
        "    'seed': 6666,\n",
        "    'loss_fn_type': 'KD', # simple baseline: CE, medium baseline: KD. See the Knowledge_Distillation part for more information.\n",
        "    'weight_decay': 1e-4,\n",
        "    'grad_norm_max': 10,\n",
        "    'n_epochs': 450, # train more steps to pass the medium baseline.\n",
        "    'patience': 200,\n",
        "}"
      ],
      "metadata": {
        "execution": {
          "iopub.status.busy": "2022-05-24T10:23:31.840586Z",
          "iopub.execute_input": "2022-05-24T10:23:31.841156Z",
          "iopub.status.idle": "2022-05-24T10:23:31.845766Z",
          "shell.execute_reply.started": "2022-05-24T10:23:31.841116Z",
          "shell.execute_reply": "2022-05-24T10:23:31.844796Z"
        },
        "trusted": true,
        "id": "OtmYVkobSz5f"
      },
      "execution_count": null,
      "outputs": []
    },
    {
      "cell_type": "code",
      "source": [
        "myseed = cfg['seed']  # set a random seed for reproducibility\n",
        "torch.backends.cudnn.deterministic = True\n",
        "torch.backends.cudnn.benchmark = False\n",
        "np.random.seed(myseed)\n",
        "torch.manual_seed(myseed)\n",
        "random.seed(myseed)\n",
        "if torch.cuda.is_available():\n",
        "    torch.cuda.manual_seed_all(myseed)\n",
        "\n",
        "save_path = './gdrive/MyDrive/ML2022/ML2022_hw13/' # create saving directory\n",
        "os.makedirs(save_path, exist_ok=True)\n",
        "\n",
        "# define simple logging functionality\n",
        "log_fw = open(f\"{save_path}/log.txt\", 'w') # open log file to save log outputs\n",
        "def log(text):     # define a logging function to trace the training process\n",
        "    print(text)\n",
        "    log_fw.write(str(text)+'\\n')\n",
        "    log_fw.flush()\n",
        "\n",
        "log(cfg)  # log your configs to the log file"
      ],
      "metadata": {
        "execution": {
          "iopub.status.busy": "2022-05-24T10:23:34.772487Z",
          "iopub.execute_input": "2022-05-24T10:23:34.773042Z",
          "iopub.status.idle": "2022-05-24T10:23:34.782290Z",
          "shell.execute_reply.started": "2022-05-24T10:23:34.772995Z",
          "shell.execute_reply": "2022-05-24T10:23:34.781517Z"
        },
        "trusted": true,
        "id": "-hQgM5oQSz5g"
      },
      "execution_count": null,
      "outputs": []
    },
    {
      "cell_type": "markdown",
      "source": [
        "### Dataset\n",
        "We use Food11 dataset for this homework, which is similar to homework3. But remember, Please DO NOT utilize the dataset of HW3. We've modified the dataset, so you should only access the dataset by loading it in this kaggle notebook or through the links provided in the HW13 colab notebooks."
      ],
      "metadata": {
        "id": "oXAuqqkHSz5h"
      }
    },
    {
      "cell_type": "code",
      "source": [
        "# fetch and download the dataset from github (about 1.12G)\n",
        "# !wget https://github.com/virginiakm1988/ML2022-Spring/raw/main/HW13/food11-hw13.tar.gz \n",
        "## backup links:\n",
        "\n",
        "!wget https://github.com/andybi7676/ml2022spring-hw13/raw/main/food11-hw13.tar.gz -O food11-hw13.tar.gz\n",
        "# !gdown '1ijKoNmpike_yjUw8SWRVVWVoMOXXqycj' --output food11-hw13.tar.gz"
      ],
      "metadata": {
        "id": "5ERoxWV4VM2K"
      },
      "execution_count": null,
      "outputs": []
    },
    {
      "cell_type": "code",
      "source": [
        "# extract the data\n",
        "!tar -xzf ./food11-hw13.tar.gz # Could take some time\n",
        "# !tar -xzvf ./food11-hw13.tar.gz # use this command if you want to checkout the whole process."
      ],
      "metadata": {
        "id": "eAC22Jf1WxL9"
      },
      "execution_count": null,
      "outputs": []
    },
    {
      "cell_type": "code",
      "source": [
        "for dirname, _, filenames in os.walk('./food11-hw13'):\n",
        "    if len(filenames) > 0:\n",
        "        print(f\"{dirname}: {len(filenames)} files.\") # Show the file amounts in each split."
      ],
      "metadata": {
        "_uuid": "8f2839f25d086af736a60e9eeb907d3b93b6e0e5",
        "_cell_guid": "b1076dfc-b9ad-4769-8c92-a6c4dae69d19",
        "execution": {
          "iopub.status.busy": "2022-05-24T10:03:22.50954Z",
          "iopub.execute_input": "2022-05-24T10:03:22.509792Z",
          "iopub.status.idle": "2022-05-24T10:03:29.344989Z",
          "shell.execute_reply.started": "2022-05-24T10:03:22.509758Z",
          "shell.execute_reply": "2022-05-24T10:03:29.344227Z"
        },
        "trusted": true,
        "id": "_CspVRJESz5h"
      },
      "execution_count": null,
      "outputs": []
    },
    {
      "cell_type": "markdown",
      "source": [
        "Next, specify train/test transform for image data augmentation.\n",
        "Torchvision provides lots of useful utilities for image preprocessing, data wrapping as well as data augmentation.\n",
        "\n",
        "Please refer to [PyTorch official website](https://pytorch.org/vision/stable/transforms.html) for details about different transforms. You can also apply the knowledge or experience you learned in HW3."
      ],
      "metadata": {
        "id": "_J76I6bTSz5i"
      }
    },
    {
      "cell_type": "code",
      "source": [
        "normalize = transforms.Normalize(mean=[0.485, 0.456, 0.406], std=[0.229, 0.224, 0.225])\n",
        "# define training/testing transforms\n",
        "# test_tfm = transforms.Compose([\n",
        "#     # It is not encouraged to modify this part if you are using the provided teacher model. This transform is stardard and good enough for testing.\n",
        "#     transforms.Resize(256),\n",
        "#     transforms.CenterCrop(224),\n",
        "#     transforms.ToTensor(),\n",
        "#     normalize,\n",
        "# ])\n",
        "\n",
        "# train_tfm = transforms.Compose([\n",
        "#     # add some useful transform or augmentation here, according to your experience in HW3.\n",
        "#     transforms.Resize(256),  # You can change this\n",
        "#     transforms.CenterCrop(224), # You can change this, but be aware of that the given teacher model's input size is 224.\n",
        "#     # The training input size of the provided teacher model is (3, 224, 224).\n",
        "#     # Thus, Input size other then 224 might hurt the performance. please be careful.\n",
        "#     transforms.RandomHorizontalFlip(), # You can change this.\n",
        "#     transforms.ToTensor(),\n",
        "#     normalize,\n",
        "# ])\n",
        "test_tfm = transforms.Compose([\n",
        "    transforms.Resize(256),\n",
        "    transforms.CenterCrop(224),\n",
        "    transforms.ToTensor(),\n",
        "    normalize,\n",
        "])\n",
        "\n",
        "train_tfm = transforms.Compose([\n",
        "    # transforms.RandomResizedCrop(224), \n",
        "    # transforms.RandomHorizontalFlip(), \n",
        "    # transforms.AutoAugment(),\n",
        "    # transforms.ToTensor(),\n",
        "    # normalize,\n",
        "    transforms.Resize(256),\n",
        "    transforms.RandomHorizontalFlip(), \n",
        "    transforms.RandomRotation(15),\n",
        "    transforms.CenterCrop(224), \n",
        "    transforms.ToTensor(),\n",
        "    normalize,\n",
        "])"
      ],
      "metadata": {
        "execution": {
          "iopub.status.busy": "2022-05-24T10:03:29.347832Z",
          "iopub.execute_input": "2022-05-24T10:03:29.348041Z",
          "iopub.status.idle": "2022-05-24T10:03:29.355565Z",
          "shell.execute_reply.started": "2022-05-24T10:03:29.348014Z",
          "shell.execute_reply": "2022-05-24T10:03:29.354664Z"
        },
        "trusted": true,
        "id": "GYIvuK-RSz5i"
      },
      "execution_count": null,
      "outputs": []
    },
    {
      "cell_type": "code",
      "source": [
        "class FoodDataset(Dataset):\n",
        "    def __init__(self, path, tfm=test_tfm, files = None):\n",
        "        super().__init__()\n",
        "        self.path = path\n",
        "        self.files = sorted([os.path.join(path,x) for x in os.listdir(path) if x.endswith(\".jpg\")])\n",
        "        if files != None:\n",
        "            self.files = files\n",
        "        print(f\"One {path} sample\",self.files[0])\n",
        "        self.transform = tfm\n",
        "  \n",
        "    def __len__(self):\n",
        "        return len(self.files)\n",
        "  \n",
        "    def __getitem__(self,idx):\n",
        "        fname = self.files[idx]\n",
        "        im = Image.open(fname)\n",
        "        im = self.transform(im)\n",
        "        try:\n",
        "            label = int(fname.split(\"/\")[-1].split(\"_\")[0])\n",
        "        except:\n",
        "            label = -1 # test has no label\n",
        "        return im,label"
      ],
      "metadata": {
        "execution": {
          "iopub.status.busy": "2022-05-24T10:03:29.35682Z",
          "iopub.execute_input": "2022-05-24T10:03:29.357325Z",
          "iopub.status.idle": "2022-05-24T10:03:29.370053Z",
          "shell.execute_reply.started": "2022-05-24T10:03:29.357285Z",
          "shell.execute_reply": "2022-05-24T10:03:29.369273Z"
        },
        "trusted": true,
        "id": "SsYOy-PBSz5i"
      },
      "execution_count": null,
      "outputs": []
    },
    {
      "cell_type": "code",
      "source": [
        "# Form train/valid dataloaders\n",
        "train_set = FoodDataset(os.path.join(cfg['dataset_root'],\"training\"), tfm=train_tfm)\n",
        "train_loader = DataLoader(train_set, batch_size=cfg['batch_size'], shuffle=True, num_workers=0, pin_memory=True)\n",
        "\n",
        "valid_set = FoodDataset(os.path.join(cfg['dataset_root'], \"validation\"), tfm=test_tfm)\n",
        "valid_loader = DataLoader(valid_set, batch_size=cfg['batch_size'], shuffle=False, num_workers=0, pin_memory=True)"
      ],
      "metadata": {
        "execution": {
          "iopub.status.busy": "2022-05-24T10:03:29.372379Z",
          "iopub.execute_input": "2022-05-24T10:03:29.373093Z",
          "iopub.status.idle": "2022-05-24T10:03:29.417511Z",
          "shell.execute_reply.started": "2022-05-24T10:03:29.373057Z",
          "shell.execute_reply": "2022-05-24T10:03:29.416795Z"
        },
        "trusted": true,
        "id": "PUl030elSz5j"
      },
      "execution_count": null,
      "outputs": []
    },
    {
      "cell_type": "markdown",
      "source": [
        "### Architecture_Design\n",
        "\n",
        "In this homework, you have to design a smaller network and make it perform well. Apparently, a well-designed architecture is crucial for such task. Here, we introduce the depthwise and pointwise convolution. These variants of convolution are some common techniques for architecture design when it comes to network compression.\n",
        "\n",
        "<img src=\"https://i.imgur.com/LFDKHOp.png\" width=400px>\n",
        "\n",
        "* explanation of depthwise and pointwise convolutions:\n",
        "    * [prof. Hung-yi Lee's slides(p.24~p.30, especially p.28)](https://speech.ee.ntu.edu.tw/~hylee/ml/ml2021-course-data/tiny_v7.pdf)"
      ],
      "metadata": {
        "id": "Kna5Gp_eSz5j"
      }
    },
    {
      "cell_type": "code",
      "source": [
        "# Example implementation of Depthwise and Pointwise Convolution \n",
        "def dwpw_conv(in_channels, out_channels, kernel_size, stride=1, padding=0):\n",
        "    return nn.Sequential(\n",
        "        nn.Conv2d(in_channels, in_channels, kernel_size, stride=stride, padding=padding, groups=in_channels), # depthwise convolution\n",
        "        nn.Conv2d(in_channels, out_channels, 1), # pointwise convolution\n",
        "    )"
      ],
      "metadata": {
        "execution": {
          "iopub.status.busy": "2022-05-24T10:03:29.418659Z",
          "iopub.execute_input": "2022-05-24T10:03:29.418928Z",
          "iopub.status.idle": "2022-05-24T10:03:29.423565Z",
          "shell.execute_reply.started": "2022-05-24T10:03:29.418894Z",
          "shell.execute_reply": "2022-05-24T10:03:29.422893Z"
        },
        "trusted": true,
        "id": "chLDiavKSz5j"
      },
      "execution_count": null,
      "outputs": []
    },
    {
      "cell_type": "markdown",
      "source": [
        "* other useful techniques\n",
        "    * [group convolution](https://www.researchgate.net/figure/The-transformations-within-a-layer-in-DenseNets-left-and-CondenseNets-at-training-time_fig2_321325862) (Actually, depthwise convolution is a specific type of group convolution)\n",
        "    * [SqueezeNet](!https://arxiv.org/abs/1602.07360)\n",
        "    * [MobileNet](!https://arxiv.org/abs/1704.04861)\n",
        "    * [ShuffleNet](!https://arxiv.org/abs/1707.01083)\n",
        "    * [Xception](!https://arxiv.org/abs/1610.02357)\n",
        "    * [GhostNet](!https://arxiv.org/abs/1911.11907)\n"
      ],
      "metadata": {
        "id": "NfXa-ZBRSz5k"
      }
    },
    {
      "cell_type": "markdown",
      "source": [
        "After introducing depthwise and pointwise convolutions, let's define the **student network architecture**. Here, we have a very simple network formed by some regular convolution layers and pooling layers. You can replace the regular convolution layers with the depthwise and pointwise convolutions. In this way, you can further increase the depth or the width of your network architecture."
      ],
      "metadata": {
        "id": "wo4hrDDESz5k"
      }
    },
    {
      "cell_type": "markdown",
      "source": [
        "### MobileNet V2\n",
        "**Reference:** https://github.com/peterliht/knowledge-distillation-pytorch/blob/ef06124d67a98abcb3a5bc9c81f7d0f1f016a7ef/distillation_analysis.py"
      ],
      "metadata": {
        "id": "yiELK7LwXXpg"
      }
    },
    {
      "cell_type": "code",
      "source": [
        "import math\n",
        "def make_divisible(ch, divisor=8.):\n",
        "    ch = float(ch)\n",
        "    return int(math.ceil(ch / divisor) * divisor)"
      ],
      "metadata": {
        "id": "RHr_mpyaA_U1"
      },
      "execution_count": null,
      "outputs": []
    },
    {
      "cell_type": "code",
      "source": [
        "class ConvBN(nn.Sequential):\n",
        "    def __init__(self, in_ch, out_ch, kernel_size=3, stride=1, groups=1):\n",
        "        super(ConvBN, self).__init__(\n",
        "            nn.Conv2d(in_ch, out_ch, kernel_size, stride, (kernel_size - 1) // 2, groups=groups, bias=False),\n",
        "            nn.BatchNorm2d(out_ch),\n",
        "            nn.ReLU(inplace=True)\n",
        "        )"
      ],
      "metadata": {
        "id": "tSae3emC5E80"
      },
      "execution_count": null,
      "outputs": []
    },
    {
      "cell_type": "code",
      "source": [
        "class InvertedRes(nn.Module):\n",
        "    def __init__(self, in_ch, out_ch, stride, expand_ratio):\n",
        "        super(InvertedRes, self).__init__()\n",
        "        hidden_ch = expand_ratio * in_ch\n",
        "        self.shortcut_connect = (in_ch == out_ch and stride == 1)\n",
        "\n",
        "        layers = []\n",
        "        if expand_ratio != 1:\n",
        "            layers.append(ConvBN(in_ch, hidden_ch, kernel_size=1))\n",
        "        layers = layers + [\n",
        "            ConvBN(hidden_ch, hidden_ch, stride=stride, groups=hidden_ch),\n",
        "            nn.Conv2d(hidden_ch, out_ch, kernel_size=1, bias=False),\n",
        "            nn.BatchNorm2d(out_ch),\n",
        "        ]\n",
        "\n",
        "        self.conv = nn.Sequential(*layers)\n",
        "\n",
        "    def forward(self, x):\n",
        "        tmp = self.conv(x)\n",
        "        if self.shortcut_connect:\n",
        "            tmp = tmp + x\n",
        "        return tmp"
      ],
      "metadata": {
        "id": "5tMXamlV8SP3"
      },
      "execution_count": null,
      "outputs": []
    },
    {
      "cell_type": "code",
      "source": [
        "class MobileNetV2(nn.Module):\n",
        "    def __init__(self, class_num=11, in_size=128, w_mul=1.):\n",
        "        super(MobileNetV2, self).__init__()\n",
        "        block = InvertedRes\n",
        "        in_ch = 32\n",
        "        last_ch = 100\n",
        "        invertedRes_setting = [\n",
        "            # t, c, n, s\n",
        "            [1, 16, 1, 1],\n",
        "            [6, 24, 1, 2],\n",
        "            [6, 32, 1, 2],\n",
        "            [6, 64, 2, 2]\n",
        "        ]\n",
        "\n",
        "        self.last_ch = make_divisible(w_mul * last_ch) if w_mul > 1.0 else last_ch\n",
        "        features = []\n",
        "        features.append(ConvBN(3, in_ch, stride=2))\n",
        "\n",
        "        for setting in invertedRes_setting:\n",
        "            t, c, n, s = setting\n",
        "            out_ch = make_divisible(c * w_mul) if t > 1 else c\n",
        "\n",
        "            for i in range(n):\n",
        "                features.append(InvertedRes(in_ch, out_ch, s if i == 0 else 1, t))\n",
        "                in_ch = out_ch\n",
        "        features.append(ConvBN(in_ch, last_ch, 1))     \n",
        "\n",
        "        self.features = nn.Sequential(*features)   \n",
        "        self.avgpool = nn.AdaptiveAvgPool2d((1, 1))\n",
        "        self.classifier = nn.Linear(last_ch, class_num)\n",
        "\n",
        "        for m in self.modules():\n",
        "            if isinstance(m, nn.Conv2d):\n",
        "                nn.init.kaiming_normal_(m.weight, mode='fan_out')\n",
        "                if m.bias is not None:\n",
        "                    nn.init.zeros_(m.bias)\n",
        "            elif isinstance(m, nn.BatchNorm2d):\n",
        "                nn.init.ones_(m.weight)\n",
        "                nn.init.zeros_(m.bias)\n",
        "            elif isinstance(m, nn.Linear):\n",
        "                nn.init.normal_(m.weight, 0, 0.01)\n",
        "                nn.init.zeros_(m.bias)\n",
        "\n",
        "    def forward(self, x):\n",
        "        x = self.features(x)\n",
        "        x = self.avgpool(x)\n",
        "        x = torch.flatten(x, 1)\n",
        "        x = self.classifier(x)\n",
        "        return x"
      ],
      "metadata": {
        "id": "diESFeQHADie"
      },
      "execution_count": null,
      "outputs": []
    },
    {
      "cell_type": "markdown",
      "source": [
        "After specifying the student network architecture, please use `torchsummary` package to get information about the network and verify the total number of parameters. Note that the total params of your student network should not exceed the limit (`Total params` in `torchsummary` ≤ 100,000). "
      ],
      "metadata": {
        "id": "w99ooIeOSz5k"
      }
    },
    {
      "cell_type": "code",
      "source": [
        "# DO NOT modify this block and please make sure that this block can run sucessfully. \n",
        "student_model = MobileNetV2()\n",
        "summary(student_model, (3, 224, 224), device='cpu')\n",
        "# You have to copy&paste the results of this block to HW13 GradeScope. "
      ],
      "metadata": {
        "execution": {
          "iopub.status.busy": "2022-05-24T10:03:29.43901Z",
          "iopub.execute_input": "2022-05-24T10:03:29.439472Z",
          "iopub.status.idle": "2022-05-24T10:03:29.725131Z",
          "shell.execute_reply.started": "2022-05-24T10:03:29.439437Z",
          "shell.execute_reply": "2022-05-24T10:03:29.72441Z"
        },
        "trusted": true,
        "id": "ef3hT8W2Sz5k"
      },
      "execution_count": null,
      "outputs": []
    },
    {
      "cell_type": "code",
      "source": [
        "# Load provided teacher model (model architecture: resnet18, num_classes=11, test-acc ~= 89.9%)\n",
        "teacher_model = torch.hub.load(\n",
        "    'pytorch/vision:v0.10.0', 'resnet18', pretrained=False, num_classes=11)\n",
        "# load state dict\n",
        "teacher_ckpt_path = os.path.join(cfg['dataset_root'], \"resnet18_teacher.ckpt\")\n",
        "teacher_model.load_state_dict(torch.load(teacher_ckpt_path, map_location='cpu'))\n",
        "# Now you already know the teacher model's architecture. You can take advantage of it if you want to pass the strong or boss baseline. \n",
        "# Source code of resnet in pytorch: (https://github.com/pytorch/vision/blob/main/torchvision/models/resnet.py)\n",
        "# You can also see the summary of teacher model. There are 11,182,155 parameters totally in the teacher model\n",
        "# summary(teacher_model, (3, 224, 224), device='cpu')"
      ],
      "metadata": {
        "execution": {
          "iopub.status.busy": "2022-05-24T10:03:29.72678Z",
          "iopub.execute_input": "2022-05-24T10:03:29.727038Z",
          "iopub.status.idle": "2022-05-24T10:03:34.185327Z",
          "shell.execute_reply.started": "2022-05-24T10:03:29.727002Z",
          "shell.execute_reply": "2022-05-24T10:03:34.184566Z"
        },
        "trusted": true,
        "id": "EMsCeYkeSz5l"
      },
      "execution_count": null,
      "outputs": []
    },
    {
      "cell_type": "markdown",
      "source": [
        "### Knowledge_Distillation\n",
        "\n",
        "<img src=\"https://i.imgur.com/H2aF7Rv.png=100x\" width=\"400px\">\n",
        "\n",
        "Since we have a learned big model, let it teach the other small model. In implementation, let the training target be the prediction of big model instead of the ground truth.\n",
        "\n",
        "**Why it works?**\n",
        "* If the data is not clean, then the prediction of big model could ignore the noise of the data with wrong labeled.\n",
        "* There might have some relations between classes, so soft labels from teacher model might be useful. For example, Number 8 is more similar to 6, 9, 0 than 1, 7.\n",
        "\n",
        "\n",
        "**How to implement?**\n",
        "* $Loss = \\alpha T^2 \\times KL(p || q) + (1-\\alpha)(\\text{Original Cross Entropy Loss}), \\text{where } p=softmax(\\frac{\\text{student's logits}}{T}), \\text{and } q=softmax(\\frac{\\text{teacher's logits}}{T})$\n",
        "* very useful link: [pytorch docs of KLDivLoss with examples](!https://pytorch.org/docs/stable/generated/torch.nn.KLDivLoss.html)\n",
        "* original paper: [Distilling the Knowledge in a Neural Network](!https://arxiv.org/abs/1503.02531)"
      ],
      "metadata": {
        "id": "SssBmJciSz5l"
      }
    },
    {
      "cell_type": "markdown",
      "source": [
        "### Mixup"
      ],
      "metadata": {
        "id": "hELe5650TvIM"
      }
    },
    {
      "cell_type": "code",
      "source": [
        "def mixup_data(x, y, alpha=1.):\n",
        "    lam = np.random.beta(alpha, alpha) if alpha > 0 else 1\n",
        "    batch_size = x.shape[0]\n",
        "    idx = torch.randperm(batch_size)\n",
        "\n",
        "    x_mixed = lam * x + (1 - lam) * x[idx, :] \n",
        "    y_a, y_b = y, y[idx]\n",
        "    return x_mixed, y_a, y_b, lam"
      ],
      "metadata": {
        "id": "lywNLTMXTw5r"
      },
      "execution_count": null,
      "outputs": []
    },
    {
      "cell_type": "code",
      "source": [
        "def mixup_loss(loss_fn_, student_logits, labels_a, labels_b, lam):\n",
        "    return lam * loss_fn_(student_logits, labels_a) + (1 - lam) * loss_fn_(student_logits, labels_b)"
      ],
      "metadata": {
        "id": "HYqrfUjEuVm7"
      },
      "execution_count": null,
      "outputs": []
    },
    {
      "cell_type": "markdown",
      "source": [
        "### Loss Function"
      ],
      "metadata": {
        "id": "aEoHudvxvLar"
      }
    },
    {
      "cell_type": "code",
      "source": [
        "def loss_fn_kd(student_logits, teacher_logits, labels, labels_a=None, labels_b=None, lam=0., alpha=0.5, temperature=20, use_validation=True):\n",
        "    loss_fn_ = nn.CrossEntropyLoss()\n",
        "    if use_validation:\n",
        "        tmp_loss = loss_fn_(student_logits, labels)\n",
        "    else:\n",
        "        tmp_loss = mixup_loss(loss_fn_, student_logits, labels_a, labels_b, lam)\n",
        "\n",
        "    student_logits = F.softmax(student_logits / temperature, dim=-1)\n",
        "    teacher_logits = F.softmax(teacher_logits / temperature, dim=-1)\n",
        "    loss_fn_ = nn.KLDivLoss(reduction='batchmean')\n",
        "\n",
        "    loss = alpha * (temperature ** 2) * loss_fn_(student_logits, teacher_logits) + (1. - alpha) * tmp_loss\n",
        "\n",
        "    return loss"
      ],
      "metadata": {
        "execution": {
          "iopub.status.busy": "2022-05-24T10:03:34.188841Z",
          "iopub.execute_input": "2022-05-24T10:03:34.189265Z",
          "iopub.status.idle": "2022-05-24T10:03:34.194093Z",
          "shell.execute_reply.started": "2022-05-24T10:03:34.189224Z",
          "shell.execute_reply": "2022-05-24T10:03:34.193204Z"
        },
        "trusted": true,
        "id": "twZb0G9-Sz5l"
      },
      "execution_count": null,
      "outputs": []
    },
    {
      "cell_type": "code",
      "source": [
        "# choose the loss function by the config\n",
        "if cfg['loss_fn_type'] == 'CE':\n",
        "    loss_fn = nn.CrossEntropyLoss() \n",
        "\n",
        "if cfg['loss_fn_type'] == 'KD': # KD stands for knowledge distillation\n",
        "    loss_fn = loss_fn_kd \n",
        "\n",
        "# \"cuda\" only when GPUs are available.\n",
        "device = \"cuda\" if torch.cuda.is_available() else \"cpu\"\n",
        "log(f\"device: {device}\")\n",
        "\n",
        "# The number of training epochs and patience.\n",
        "n_epochs = cfg['n_epochs']\n",
        "patience = cfg['patience'] # If no improvement in 'patience' epochs, early stop"
      ],
      "metadata": {
        "execution": {
          "iopub.status.busy": "2022-05-24T10:03:34.195253Z",
          "iopub.execute_input": "2022-05-24T10:03:34.195489Z",
          "iopub.status.idle": "2022-05-24T10:03:34.210666Z",
          "shell.execute_reply.started": "2022-05-24T10:03:34.195455Z",
          "shell.execute_reply": "2022-05-24T10:03:34.209911Z"
        },
        "trusted": true,
        "id": "alv2sq_xSz5l"
      },
      "execution_count": null,
      "outputs": []
    },
    {
      "cell_type": "markdown",
      "source": [
        "### Training\n",
        "implement training loop for simple baseline, feel free to modify it."
      ],
      "metadata": {
        "id": "pI_HZWNFSz5l"
      }
    },
    {
      "cell_type": "code",
      "source": [
        "from torch.autograd import Variable\n",
        "# Initialize a model, and put it on the device specified.\n",
        "student_model.to(device)\n",
        "teacher_model.to(device) # MEDIUM BASELINE\n",
        "student_model.train()\n",
        "teacher_model.eval()\n",
        "\n",
        "# Initialize optimizer, you may fine-tune some hyperparameters such as learning rate on your own.\n",
        "optimizer = torch.optim.Adam(student_model.parameters(), lr=cfg['lr'], weight_decay=cfg['weight_decay']) \n",
        "\n",
        "# Initialize trackers, these are not parameters and should not be changed\n",
        "stale = 0\n",
        "best_acc = 0.0\n",
        "\n",
        "# teacher_model.eval()  # MEDIUM BASELINE\n",
        "for epoch in range(n_epochs):\n",
        "\n",
        "    # ---------- Training ----------\n",
        "    # Make sure the model is in train mode before training.\n",
        "    student_model.train()\n",
        "\n",
        "    # These are used to record information in training.\n",
        "    train_loss = []\n",
        "    train_accs = []\n",
        "    train_lens = []\n",
        "\n",
        "    for batch in tqdm(train_loader):\n",
        "\n",
        "        # A batch consists of image data and corresponding labels.\n",
        "        imgs, labels = batch\n",
        "        imgs = imgs.to(device)\n",
        "        labels = labels.to(device)\n",
        "        #imgs = imgs.half()\n",
        "        #print(imgs.shape,labels.shape)\n",
        "\n",
        "        imgs, labels_a, labels_b, lam = mixup_data(imgs, labels)\n",
        "        imgs, labels_a, labels_b = map(lambda x: Variable(x), (imgs, labels_a, labels_b))\n",
        "\n",
        "        # Forward the data. (Make sure data and model are on the same device.)\n",
        "        with torch.no_grad():  # MEDIUM BASELINE\n",
        "            teacher_logits = teacher_model(imgs)  # MEDIUM BASELINE\n",
        "        \n",
        "        logits = student_model(imgs)\n",
        "\n",
        "        # Calculate the cross-entropy loss.\n",
        "        # We don't need to apply softmax before computing cross-entropy as it is done automatically.\n",
        "#         loss = loss_fn(logits, labels, teacher_logits) # MEDIUM BASELINE\n",
        "        loss = loss_fn(logits, teacher_logits, labels, labels_a, labels_b, lam, alpha=0.5, use_validation=False) # SIMPLE BASELINE\n",
        "        # Gradients stored in the parameters in the previous step should be cleared out first.\n",
        "        optimizer.zero_grad()\n",
        "\n",
        "        # Compute the gradients for parameters.\n",
        "        loss.backward()\n",
        "\n",
        "        # Clip the gradient norms for stable training.\n",
        "        grad_norm = nn.utils.clip_grad_norm_(student_model.parameters(), max_norm=cfg['grad_norm_max'])\n",
        "\n",
        "        # Update the parameters with computed gradients.\n",
        "        optimizer.step()\n",
        "\n",
        "        # Compute the accuracy for current batch.\n",
        "        acc = lam * (logits.argmax(dim=-1) == labels_a).float().sum() + (1 - lam) * (logits.argmax(dim=-1) == labels_b).float().sum()\n",
        "\n",
        "        # Record the loss and accuracy.\n",
        "        train_batch_len = len(imgs)\n",
        "        train_loss.append(loss.item() * train_batch_len)\n",
        "        train_accs.append(acc)\n",
        "        train_lens.append(train_batch_len)\n",
        "        \n",
        "    train_loss = sum(train_loss) / sum(train_lens)\n",
        "    train_acc = sum(train_accs) / sum(train_lens)\n",
        "\n",
        "    # Print the information.\n",
        "    log(f\"[ Train | {epoch + 1:03d}/{n_epochs:03d} ] loss = {train_loss:.5f}, acc = {train_acc:.5f}\")\n",
        "\n",
        "    # ---------- Validation ----------\n",
        "    # Make sure the model is in eval mode so that some modules like dropout are disabled and work normally.\n",
        "    student_model.eval()\n",
        "\n",
        "    # These are used to record information in validation.\n",
        "    valid_loss = []\n",
        "    valid_accs = []\n",
        "    valid_lens = []\n",
        "\n",
        "    # Iterate the validation set by batches.\n",
        "    for batch in tqdm(valid_loader):\n",
        "\n",
        "        # A batch consists of image data and corresponding labels.\n",
        "        imgs, labels = batch\n",
        "        imgs = imgs.to(device)\n",
        "        labels = labels.to(device)\n",
        "\n",
        "        # We don't need gradient in validation.\n",
        "        # Using torch.no_grad() accelerates the forward process.\n",
        "        with torch.no_grad():\n",
        "            logits = student_model(imgs)\n",
        "            teacher_logits = teacher_model(imgs) # MEDIUM BASELINE\n",
        "\n",
        "        # We can still compute the loss (but not the gradient).\n",
        "        loss = loss_fn(logits, teacher_logits, labels, use_validation=True) # MEDIUM BASELINE\n",
        "\n",
        "        # Compute the accuracy for current batch.\n",
        "        acc = (logits.argmax(dim=-1) == labels).float().sum()\n",
        "\n",
        "        # Record the loss and accuracy.\n",
        "        batch_len = len(imgs)\n",
        "        valid_loss.append(loss.item() * batch_len)\n",
        "        valid_accs.append(acc)\n",
        "        valid_lens.append(batch_len)\n",
        "        #break\n",
        "\n",
        "    # The average loss and accuracy for entire validation set is the average of the recorded values.\n",
        "    valid_loss = sum(valid_loss) / sum(valid_lens)\n",
        "    valid_acc = sum(valid_accs) / sum(valid_lens)\n",
        "\n",
        "    # update logs\n",
        "    \n",
        "    if valid_acc > best_acc:\n",
        "        log(f\"[ Valid | {epoch + 1:03d}/{n_epochs:03d} ] loss = {valid_loss:.5f}, acc = {valid_acc:.5f} -> best\")\n",
        "    else:\n",
        "        log(f\"[ Valid | {epoch + 1:03d}/{n_epochs:03d} ] loss = {valid_loss:.5f}, acc = {valid_acc:.5f}\")\n",
        "\n",
        "\n",
        "    # save models\n",
        "    if valid_acc > best_acc:\n",
        "        log(f\"Best model found at epoch {epoch}, saving model\")\n",
        "        torch.save(student_model.state_dict(), f\"{save_path}/student_best.ckpt\") # only save best to prevent output memory exceed error\n",
        "        best_acc = valid_acc\n",
        "        stale = 0\n",
        "    else:\n",
        "        stale += 1\n",
        "        if stale > patience:\n",
        "            log(f\"No improvment {patience} consecutive epochs, early stopping\")\n",
        "            break\n",
        "\n",
        "\n",
        "log(\"Finish training\")\n",
        "log_fw.close()"
      ],
      "metadata": {
        "execution": {
          "iopub.status.busy": "2022-05-24T10:03:34.212111Z",
          "iopub.execute_input": "2022-05-24T10:03:34.212548Z",
          "iopub.status.idle": "2022-05-24T10:14:25.519441Z",
          "shell.execute_reply.started": "2022-05-24T10:03:34.21251Z",
          "shell.execute_reply": "2022-05-24T10:14:25.518016Z"
        },
        "trusted": true,
        "id": "1STfGFhSSz5l"
      },
      "execution_count": null,
      "outputs": []
    },
    {
      "cell_type": "markdown",
      "source": [
        "### Inference\n",
        "load the best model of the experiment and generate submission.csv"
      ],
      "metadata": {
        "id": "pZDwoTEISz5m"
      }
    },
    {
      "cell_type": "code",
      "source": [
        "# create dataloader for evaluation\n",
        "eval_set = FoodDataset(os.path.join(cfg['dataset_root'], \"evaluation\"), tfm=test_tfm)\n",
        "eval_loader = DataLoader(eval_set, batch_size=cfg['batch_size'], shuffle=False, num_workers=0, pin_memory=True)"
      ],
      "metadata": {
        "execution": {
          "iopub.status.busy": "2022-05-24T10:14:38.830275Z",
          "iopub.execute_input": "2022-05-24T10:14:38.831095Z",
          "iopub.status.idle": "2022-05-24T10:14:38.849204Z",
          "shell.execute_reply.started": "2022-05-24T10:14:38.831041Z",
          "shell.execute_reply": "2022-05-24T10:14:38.848517Z"
        },
        "trusted": true,
        "id": "QHeuiLSDSz5m"
      },
      "execution_count": null,
      "outputs": []
    },
    {
      "cell_type": "code",
      "source": [
        "# Load model from {exp_name}/student_best.ckpt\n",
        "student_model_best = MobileNetV2() # get a new student model to avoid reference before assignment.\n",
        "ckpt_path = f\"{save_path}/student_best.ckpt\" # the ckpt path of the best student model.\n",
        "student_model_best.load_state_dict(torch.load(ckpt_path, map_location='cpu')) # load the state dict and set it to the student model\n",
        "student_model_best.to(device) # set the student model to device\n",
        "\n",
        "# Start evaluate\n",
        "sf = torch.nn.Softmax(dim=1).to(device)\n",
        "student_model_best.eval()\n",
        "tta_prob = None\n",
        "\n",
        "for j in range(19): \n",
        "    aug_test_set = FoodDataset(os.path.join(cfg['dataset_root'], \"evaluation\"), tfm=train_tfm)\n",
        "    aug_test_loader = DataLoader(aug_test_set, batch_size=cfg['batch_size'], shuffle=False, num_workers=0, pin_memory=True)\n",
        "    test_prob = None\n",
        "    with torch.no_grad():\n",
        "        for data, _ in tqdm(aug_test_loader):\n",
        "            batch_test_prob = student_model_best(data.to(device))\n",
        "            if test_prob == None:\n",
        "                test_prob = batch_test_prob\n",
        "            else:\n",
        "                test_prob = torch.cat([test_prob, batch_test_prob], dim=0)\n",
        "        if tta_prob == None:\n",
        "            tta_prob = sf(test_prob) / 20\n",
        "        else:\n",
        "            tta_prob += sf(test_prob) / 20\n",
        "    del aug_test_set, aug_test_loader\n",
        "\n",
        "aug_test_set = FoodDataset(os.path.join(cfg['dataset_root'], \"evaluation\"), tfm=test_tfm)\n",
        "aug_test_loader = DataLoader(aug_test_set, batch_size=cfg['batch_size'], shuffle=False, num_workers=0, pin_memory=True)\n",
        "test_prob = None\n",
        "with torch.no_grad():\n",
        "    for data, _ in tqdm(aug_test_loader):\n",
        "        batch_test_prob = student_model_best(data.to(device))\n",
        "        if test_prob == None:\n",
        "            test_prob = batch_test_prob\n",
        "        else:\n",
        "            test_prob = torch.cat([test_prob, batch_test_prob], dim=0)\n",
        "tta_prob += sf(test_prob) / 20\n",
        "\n",
        "def pad4(i):\n",
        "    return \"0\"*(4-len(str(i))) + str(i)\n",
        "\n",
        "# Save prediction results\n",
        "ids = [pad4(i) for i in range(0,len(eval_set))]\n",
        "categories = np.argmax(tta_prob.cpu().data.numpy(), axis=1)\n",
        "\n",
        "df = pd.DataFrame()\n",
        "df['Id'] = ids\n",
        "df['Category'] = categories\n",
        "df.to_csv(f\"{save_path}/submission.csv\", index=False) # now you can download the submission.csv and upload it to the kaggle competition."
      ],
      "metadata": {
        "execution": {
          "iopub.status.busy": "2022-05-24T10:14:38.850823Z",
          "iopub.execute_input": "2022-05-24T10:14:38.851086Z",
          "iopub.status.idle": "2022-05-24T10:15:22.633143Z",
          "shell.execute_reply.started": "2022-05-24T10:14:38.851051Z",
          "shell.execute_reply": "2022-05-24T10:15:22.632222Z"
        },
        "trusted": true,
        "id": "6BsLuZLkSz5m"
      },
      "execution_count": null,
      "outputs": []
    },
    {
      "cell_type": "markdown",
      "source": [
        "> Don't forget to answer the report questions on GradeScope! "
      ],
      "metadata": {
        "id": "998GNALevLAe"
      }
    }
  ]
}